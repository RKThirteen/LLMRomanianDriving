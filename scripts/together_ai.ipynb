{
 "cells": [
  {
   "cell_type": "code",
   "execution_count": 2,
   "id": "77cd1201",
   "metadata": {},
   "outputs": [
    {
     "name": "stdout",
     "output_type": "stream",
     "text": [
      "Requirement already satisfied: tqdm in c:\\users\\eduar\\anaconda3\\lib\\site-packages (4.66.5)\n",
      "Requirement already satisfied: together in c:\\users\\eduar\\anaconda3\\lib\\site-packages (1.5.8)\n",
      "Requirement already satisfied: datasets in c:\\users\\eduar\\anaconda3\\lib\\site-packages (3.5.1)\n",
      "Requirement already satisfied: colorama in c:\\users\\eduar\\anaconda3\\lib\\site-packages (from tqdm) (0.4.6)\n",
      "Requirement already satisfied: aiohttp<4.0.0,>=3.9.3 in c:\\users\\eduar\\anaconda3\\lib\\site-packages (from together) (3.10.5)\n",
      "Requirement already satisfied: click<9.0.0,>=8.1.7 in c:\\users\\eduar\\anaconda3\\lib\\site-packages (from together) (8.1.7)\n",
      "Requirement already satisfied: eval-type-backport<0.3.0,>=0.1.3 in c:\\users\\eduar\\anaconda3\\lib\\site-packages (from together) (0.2.2)\n",
      "Requirement already satisfied: filelock<4.0.0,>=3.13.1 in c:\\users\\eduar\\anaconda3\\lib\\site-packages (from together) (3.13.1)\n",
      "Requirement already satisfied: numpy>=1.23.5 in c:\\users\\eduar\\anaconda3\\lib\\site-packages (from together) (1.26.4)\n",
      "Requirement already satisfied: pillow<12.0.0,>=11.1.0 in c:\\users\\eduar\\anaconda3\\lib\\site-packages (from together) (11.2.1)\n",
      "Requirement already satisfied: pyarrow>=10.0.1 in c:\\users\\eduar\\anaconda3\\lib\\site-packages (from together) (20.0.0)\n",
      "Requirement already satisfied: pydantic<3.0.0,>=2.6.3 in c:\\users\\eduar\\anaconda3\\lib\\site-packages (from together) (2.8.2)\n",
      "Requirement already satisfied: requests<3.0.0,>=2.31.0 in c:\\users\\eduar\\anaconda3\\lib\\site-packages (from together) (2.32.3)\n",
      "Requirement already satisfied: rich<15.0.0,>=13.8.1 in c:\\users\\eduar\\anaconda3\\lib\\site-packages (from together) (14.0.0)\n",
      "Requirement already satisfied: tabulate<0.10.0,>=0.9.0 in c:\\users\\eduar\\anaconda3\\lib\\site-packages (from together) (0.9.0)\n",
      "Requirement already satisfied: typer<0.16,>=0.9 in c:\\users\\eduar\\anaconda3\\lib\\site-packages (from together) (0.9.0)\n",
      "Requirement already satisfied: aiohappyeyeballs>=2.3.0 in c:\\users\\eduar\\anaconda3\\lib\\site-packages (from aiohttp<4.0.0,>=3.9.3->together) (2.4.0)\n",
      "Requirement already satisfied: aiosignal>=1.1.2 in c:\\users\\eduar\\anaconda3\\lib\\site-packages (from aiohttp<4.0.0,>=3.9.3->together) (1.2.0)\n",
      "Requirement already satisfied: attrs>=17.3.0 in c:\\users\\eduar\\anaconda3\\lib\\site-packages (from aiohttp<4.0.0,>=3.9.3->together) (24.2.0)\n",
      "Requirement already satisfied: frozenlist>=1.1.1 in c:\\users\\eduar\\anaconda3\\lib\\site-packages (from aiohttp<4.0.0,>=3.9.3->together) (1.4.0)\n",
      "Requirement already satisfied: multidict<7.0,>=4.5 in c:\\users\\eduar\\anaconda3\\lib\\site-packages (from aiohttp<4.0.0,>=3.9.3->together) (6.0.4)\n",
      "Requirement already satisfied: yarl<2.0,>=1.0 in c:\\users\\eduar\\anaconda3\\lib\\site-packages (from aiohttp<4.0.0,>=3.9.3->together) (1.11.0)\n",
      "Requirement already satisfied: annotated-types>=0.4.0 in c:\\users\\eduar\\anaconda3\\lib\\site-packages (from pydantic<3.0.0,>=2.6.3->together) (0.6.0)\n",
      "Requirement already satisfied: pydantic-core==2.20.1 in c:\\users\\eduar\\anaconda3\\lib\\site-packages (from pydantic<3.0.0,>=2.6.3->together) (2.20.1)\n",
      "Requirement already satisfied: typing-extensions>=4.6.1 in c:\\users\\eduar\\anaconda3\\lib\\site-packages (from pydantic<3.0.0,>=2.6.3->together) (4.11.0)\n",
      "Requirement already satisfied: charset-normalizer<4,>=2 in c:\\users\\eduar\\anaconda3\\lib\\site-packages (from requests<3.0.0,>=2.31.0->together) (3.3.2)\n",
      "Requirement already satisfied: idna<4,>=2.5 in c:\\users\\eduar\\anaconda3\\lib\\site-packages (from requests<3.0.0,>=2.31.0->together) (3.7)\n",
      "Requirement already satisfied: urllib3<3,>=1.21.1 in c:\\users\\eduar\\anaconda3\\lib\\site-packages (from requests<3.0.0,>=2.31.0->together) (2.2.3)\n",
      "Requirement already satisfied: certifi>=2017.4.17 in c:\\users\\eduar\\anaconda3\\lib\\site-packages (from requests<3.0.0,>=2.31.0->together) (2025.1.31)\n",
      "Requirement already satisfied: markdown-it-py>=2.2.0 in c:\\users\\eduar\\anaconda3\\lib\\site-packages (from rich<15.0.0,>=13.8.1->together) (2.2.0)\n",
      "Requirement already satisfied: pygments<3.0.0,>=2.13.0 in c:\\users\\eduar\\appdata\\roaming\\python\\python311\\site-packages (from rich<15.0.0,>=13.8.1->together) (2.17.2)\n",
      "Requirement already satisfied: dill<0.3.9,>=0.3.0 in c:\\users\\eduar\\anaconda3\\lib\\site-packages (from datasets) (0.3.8)\n",
      "Requirement already satisfied: pandas in c:\\users\\eduar\\anaconda3\\lib\\site-packages (from datasets) (2.2.2)\n",
      "Requirement already satisfied: xxhash in c:\\users\\eduar\\anaconda3\\lib\\site-packages (from datasets) (3.5.0)\n",
      "Requirement already satisfied: multiprocess<0.70.17 in c:\\users\\eduar\\anaconda3\\lib\\site-packages (from datasets) (0.70.16)\n",
      "Requirement already satisfied: fsspec<=2025.3.0,>=2023.1.0 in c:\\users\\eduar\\anaconda3\\lib\\site-packages (from fsspec[http]<=2025.3.0,>=2023.1.0->datasets) (2024.6.1)\n",
      "Requirement already satisfied: huggingface-hub>=0.24.0 in c:\\users\\eduar\\anaconda3\\lib\\site-packages (from datasets) (0.30.2)\n",
      "Requirement already satisfied: packaging in c:\\users\\eduar\\appdata\\roaming\\python\\python311\\site-packages (from datasets) (24.0)\n",
      "Requirement already satisfied: pyyaml>=5.1 in c:\\users\\eduar\\anaconda3\\lib\\site-packages (from datasets) (6.0.2)\n",
      "Requirement already satisfied: mdurl~=0.1 in c:\\users\\eduar\\anaconda3\\lib\\site-packages (from markdown-it-py>=2.2.0->rich<15.0.0,>=13.8.1->together) (0.1.0)\n",
      "Requirement already satisfied: python-dateutil>=2.8.2 in c:\\users\\eduar\\appdata\\roaming\\python\\python311\\site-packages (from pandas->datasets) (2.9.0.post0)\n",
      "Requirement already satisfied: pytz>=2020.1 in c:\\users\\eduar\\anaconda3\\lib\\site-packages (from pandas->datasets) (2024.1)\n",
      "Requirement already satisfied: tzdata>=2022.7 in c:\\users\\eduar\\anaconda3\\lib\\site-packages (from pandas->datasets) (2023.3)\n",
      "Requirement already satisfied: six>=1.5 in c:\\users\\eduar\\appdata\\roaming\\python\\python311\\site-packages (from python-dateutil>=2.8.2->pandas->datasets) (1.16.0)\n"
     ]
    }
   ],
   "source": [
    "!pip install tqdm together datasets"
   ]
  },
  {
   "cell_type": "code",
   "execution_count": 1,
   "id": "cf612953",
   "metadata": {},
   "outputs": [],
   "source": [
    "import json\n",
    "import time\n",
    "import requests\n",
    "import re\n",
    "import csv\n",
    "import together\n",
    "import os\n",
    "from tqdm import tqdm\n",
    "from datasets import Dataset"
   ]
  },
  {
   "cell_type": "code",
   "execution_count": null,
   "id": "8a760e2b",
   "metadata": {},
   "outputs": [],
   "source": [
    "TOGETHER_API_KEY = \"nottherealkey\" # \n",
    "MODEL_NAME =\"meta-llama/Llama-4-Scout-17B-16E-Instruct\" # sau alt model valid\n",
    "API_URL = \"https://api.together.xyz/inference\"\n",
    "together.api_key = TOGETHER_API_KEY"
   ]
  },
  {
   "cell_type": "code",
   "execution_count": 9,
   "id": "b3f1863f",
   "metadata": {},
   "outputs": [],
   "source": [
    "def extract_choices_from_response(text):\n",
    "    text = text.upper()\n",
    "    match = re.search(r\"RĂSPUNS(?:\\s+CORECT)?\\s*[:：]?\\s*([ABC](?:[\\s,]+[ABC])*)\", text)\n",
    "    if match:\n",
    "        return set(re.findall(r\"[ABC]\", match.group(1)))\n",
    "    return set(re.findall(r\"\\b[ABC]\\b\", text))\n",
    "\n",
    "def evaluate_model_together(dataset, model=\"meta-llama/Llama-3-70b-chat-hf\",\n",
    "                            max_tokens=128,\n",
    "                            output_csv_path=\"evaluare_together_output.csv\",\n",
    "                            log_progress=10,\n",
    "                            verbose=False,\n",
    "                            index=0,\n",
    "                            limit=1000):\n",
    "\n",
    "    golds, preds = [], []\n",
    "    exact_matches = 0\n",
    "    client = together.Together(api_key=TOGETHER_API_KEY)\n",
    "\n",
    "    # Verificăm dacă fișierul CSV deja există\n",
    "    file_exists = os.path.exists(output_csv_path)\n",
    "\n",
    "    with open(output_csv_path, \"a\", encoding=\"utf-8\", newline=\"\") as f:\n",
    "        writer = csv.DictWriter(f, fieldnames=[\"index\", \"prompt\", \"golds\", \"preds\", \"response\"])\n",
    "        if not file_exists:\n",
    "            writer.writeheader()\n",
    "\n",
    "        for i, ex in enumerate(tqdm(dataset, desc=f\"Evaluare {model}\", unit=\"ex\")):\n",
    "            if i < index or i > limit:\n",
    "                continue\n",
    "            try:\n",
    "                # verificam daca exista image\n",
    "                image_str=\"\"\n",
    "                if \"image\" not in ex or not ex[\"image\"]:\n",
    "                    print(f\"Warning: Exercițiul {i} nu are imagine asociată.\")\n",
    "                else:\n",
    "                    image_str = str(ex.get(\"image\", \"\")).strip()\n",
    "                text_str = str(ex.get(\"text\", \"\")).strip()\n",
    "                prompt_text = (\n",
    "                    image_str + \"\\n\"\n",
    "                    + text_str + \"\\n\"\n",
    "                    + \"Mai întâi oferă doar litera/literele răspunsului corect sub forma:\\nRăspuns: A\\n\"\n",
    "                    + \"Apoi oferă o explicație succintă pe un rând nou. \\n\"\n",
    "                    + \"Răspuns:\"\n",
    "                )\n",
    "                prompt = (\n",
    "                    prompt_text\n",
    "                )\n",
    "                gold = extract_choices_from_response(ex.get(\"response\", \"\"))\n",
    "\n",
    "                response = client.chat.completions.create(\n",
    "                    model=model,\n",
    "                    messages=[{\"role\": \"user\", \"content\": prompt}],\n",
    "                    max_tokens=max_tokens,\n",
    "                    temperature=0.6\n",
    "                )\n",
    "\n",
    "                decoded = response.choices[0].message.content.strip()\n",
    "                pred = extract_choices_from_response(decoded)\n",
    "\n",
    "                if verbose and (i % log_progress == 0 or i == len(dataset) - 1):\n",
    "                    print(f\"\\n📘 Prompt [{i}]:\", prompt)\n",
    "                    print(\"✅ Gold:\", gold)\n",
    "                    print(\"🧠 Pred:\", pred)\n",
    "                    print(\"📝 Decoded:\", decoded)\n",
    "                    print(\"-\" * 60)\n",
    "\n",
    "                if gold and pred:\n",
    "                    golds.append(gold)\n",
    "                    preds.append(pred)\n",
    "                    if gold == pred:\n",
    "                        exact_matches += 1\n",
    "\n",
    "                writer.writerow({\n",
    "                    \"index\": i,\n",
    "                    \"prompt\": ex[\"text\"],\n",
    "                    \"golds\": \",\".join(sorted(gold)) if gold else \"\",\n",
    "                    \"preds\": \",\".join(sorted(pred)) if pred else \"\",\n",
    "                    \"response\": decoded\n",
    "                })\n",
    "                f.flush()\n",
    "\n",
    "                time.sleep(1)  # Respectă rate limit\n",
    "\n",
    "            except Exception as e:\n",
    "                print(f\"[❌ EROARE la index {i}] {e}\")\n",
    "                continue\n",
    "\n",
    "    print(f\"\\n📝 Evaluare finalizată. CSV salvat la: {output_csv_path}\")\n",
    "    total = len(golds)\n",
    "    accuracy = exact_matches / total if total else 0\n",
    "    print(f\"📊 Acuratețe totală (exact match): {accuracy:.2%}\")\n",
    "    return golds, preds, accuracy\n"
   ]
  },
  {
   "cell_type": "code",
   "execution_count": 7,
   "id": "12ddfadd",
   "metadata": {},
   "outputs": [
    {
     "name": "stdout",
     "output_type": "stream",
     "text": [
      "{'image': None, 'text': 'Nu este furnizată nicio imagine. Răspunde doar pe baza întrebării de mai jos.\\nÎntrebare: În care dintre situații depășirea este interzisă?\\nA: În intersecțiile cu circulație nedirijată și la trecerile pentru pietoni semnalizate\\nB: În intersecții și la o distanță de 50 m de acestea\\nC: În zona de acțiune a indicatorului „limitare de viteză“\\nPoate exista mai mult de un răspuns corect.', 'response': 'A'}\n"
     ]
    }
   ],
   "source": [
    "def load_jsonl_as_list(filepath):\n",
    "    with open(filepath, 'r', encoding='utf-8') as f:\n",
    "        return [json.loads(line) for line in f]\n",
    "\n",
    "data = load_jsonl_as_list(\"multimodal.jsonl\")\n",
    "dataset_text_only = Dataset.from_list(data)\n",
    "\n",
    "split_dataset = dataset_text_only.train_test_split(test_size=0.2, seed=42)\n",
    "train_ds = split_dataset[\"train\"]\n",
    "test_ds = split_dataset[\"test\"]\n",
    "print(test_ds[0])"
   ]
  },
  {
   "cell_type": "code",
   "execution_count": 10,
   "id": "b3575bab",
   "metadata": {},
   "outputs": [
    {
     "name": "stderr",
     "output_type": "stream",
     "text": [
      "Evaluare meta-llama/Llama-4-Scout-17B-16E-Instruct:   0%|          | 0/242 [00:00<?, ?ex/s]"
     ]
    },
    {
     "name": "stdout",
     "output_type": "stream",
     "text": [
      "Warning: Exercițiul 0 nu are imagine asociată.\n",
      "\n",
      "📘 Prompt [0]: \n",
      "Nu este furnizată nicio imagine. Răspunde doar pe baza întrebării de mai jos.\n",
      "Întrebare: În care dintre situații depășirea este interzisă?\n",
      "A: În intersecțiile cu circulație nedirijată și la trecerile pentru pietoni semnalizate\n",
      "B: În intersecții și la o distanță de 50 m de acestea\n",
      "C: În zona de acțiune a indicatorului „limitare de viteză“\n",
      "Poate exista mai mult de un răspuns corect.\n",
      "Mai întâi oferă doar litera/literele răspunsului corect sub forma:\n",
      "Răspuns: A\n",
      "Apoi oferă o explicație succintă pe un rând nou. \n",
      "Răspuns:\n",
      "✅ Gold: {'A'}\n",
      "🧠 Pred: {'A'}\n",
      "📝 Decoded: Răspuns: A\n",
      "\n",
      "Depășirea este interzisă în locurile unde vizibilitatea este redusă sau unde manevra ar putea pune în pericol participanții la trafic, inclusiv în intersecțiile cu circulație nedirijată și la trecerile pentru pietoni semnalizate.\n",
      "------------------------------------------------------------\n"
     ]
    },
    {
     "name": "stderr",
     "output_type": "stream",
     "text": [
      "Evaluare meta-llama/Llama-4-Scout-17B-16E-Instruct:   1%|          | 2/242 [00:06<11:54,  2.98s/ex]"
     ]
    },
    {
     "name": "stdout",
     "output_type": "stream",
     "text": [
      "Warning: Exercițiul 2 nu are imagine asociată.\n"
     ]
    },
    {
     "name": "stderr",
     "output_type": "stream",
     "text": [
      "Evaluare meta-llama/Llama-4-Scout-17B-16E-Instruct:   2%|▏         | 4/242 [00:13<14:20,  3.62s/ex]"
     ]
    },
    {
     "name": "stdout",
     "output_type": "stream",
     "text": [
      "Warning: Exercițiul 4 nu are imagine asociată.\n"
     ]
    },
    {
     "name": "stderr",
     "output_type": "stream",
     "text": [
      "Evaluare meta-llama/Llama-4-Scout-17B-16E-Instruct:   2%|▏         | 5/242 [00:16<13:27,  3.41s/ex]"
     ]
    },
    {
     "name": "stdout",
     "output_type": "stream",
     "text": [
      "Warning: Exercițiul 5 nu are imagine asociată.\n"
     ]
    },
    {
     "name": "stderr",
     "output_type": "stream",
     "text": [
      "Evaluare meta-llama/Llama-4-Scout-17B-16E-Instruct:   2%|▏         | 6/242 [00:19<12:04,  3.07s/ex]"
     ]
    },
    {
     "name": "stdout",
     "output_type": "stream",
     "text": [
      "Warning: Exercițiul 6 nu are imagine asociată.\n"
     ]
    },
    {
     "name": "stderr",
     "output_type": "stream",
     "text": [
      "Evaluare meta-llama/Llama-4-Scout-17B-16E-Instruct:   3%|▎         | 7/242 [00:21<11:15,  2.88s/ex]"
     ]
    },
    {
     "name": "stdout",
     "output_type": "stream",
     "text": [
      "Warning: Exercițiul 7 nu are imagine asociată.\n"
     ]
    },
    {
     "name": "stderr",
     "output_type": "stream",
     "text": [
      "Evaluare meta-llama/Llama-4-Scout-17B-16E-Instruct:   3%|▎         | 8/242 [00:23<10:07,  2.60s/ex]"
     ]
    },
    {
     "name": "stdout",
     "output_type": "stream",
     "text": [
      "Warning: Exercițiul 8 nu are imagine asociată.\n"
     ]
    },
    {
     "name": "stderr",
     "output_type": "stream",
     "text": [
      "Evaluare meta-llama/Llama-4-Scout-17B-16E-Instruct:   4%|▍         | 10/242 [00:27<08:52,  2.29s/ex]"
     ]
    },
    {
     "name": "stdout",
     "output_type": "stream",
     "text": [
      "Warning: Exercițiul 10 nu are imagine asociată.\n",
      "\n",
      "📘 Prompt [10]: \n",
      "Nu este furnizată nicio imagine. Răspunde doar pe baza întrebării de mai jos.\n",
      "Întrebare: Semnificația indicatoarelor de interzicere sau restricție, în lipsa altor precizări, încetează:\n",
      "A: La 100 m de locul unde este instalat indicatorul\n",
      "B: La 200 m de locul unde este instalat indicatorul\n",
      "C: În prima intersecție\n",
      "Poate exista mai mult de un răspuns corect.\n",
      "Mai întâi oferă doar litera/literele răspunsului corect sub forma:\n",
      "Răspuns: A\n",
      "Apoi oferă o explicație succintă pe un rând nou. \n",
      "Răspuns:\n",
      "✅ Gold: {'C'}\n",
      "🧠 Pred: {'C'}\n",
      "📝 Decoded: Răspuns: C\n",
      "\n",
      "Explicație: Semnificația indicatoarelor de interzicere sau restricție, în lipsa altor precizări, încetează în prima intersecție, unde se încrucișează căi de circulație, indiferent de ordinea în care sunt construite.\n",
      "------------------------------------------------------------\n"
     ]
    },
    {
     "name": "stderr",
     "output_type": "stream",
     "text": [
      "Evaluare meta-llama/Llama-4-Scout-17B-16E-Instruct:   5%|▍         | 11/242 [00:29<08:44,  2.27s/ex]"
     ]
    },
    {
     "name": "stdout",
     "output_type": "stream",
     "text": [
      "Warning: Exercițiul 11 nu are imagine asociată.\n"
     ]
    },
    {
     "name": "stderr",
     "output_type": "stream",
     "text": [
      "Evaluare meta-llama/Llama-4-Scout-17B-16E-Instruct:   5%|▌         | 13/242 [00:33<08:10,  2.14s/ex]"
     ]
    },
    {
     "name": "stdout",
     "output_type": "stream",
     "text": [
      "Warning: Exercițiul 13 nu are imagine asociată.\n"
     ]
    },
    {
     "name": "stderr",
     "output_type": "stream",
     "text": [
      "Evaluare meta-llama/Llama-4-Scout-17B-16E-Instruct:   6%|▌         | 15/242 [00:38<08:32,  2.26s/ex]"
     ]
    },
    {
     "name": "stdout",
     "output_type": "stream",
     "text": [
      "Warning: Exercițiul 15 nu are imagine asociată.\n"
     ]
    },
    {
     "name": "stderr",
     "output_type": "stream",
     "text": [
      "Evaluare meta-llama/Llama-4-Scout-17B-16E-Instruct:   7%|▋         | 16/242 [00:41<08:50,  2.35s/ex]"
     ]
    },
    {
     "name": "stdout",
     "output_type": "stream",
     "text": [
      "Warning: Exercițiul 16 nu are imagine asociată.\n"
     ]
    },
    {
     "name": "stderr",
     "output_type": "stream",
     "text": [
      "Evaluare meta-llama/Llama-4-Scout-17B-16E-Instruct:   7%|▋         | 18/242 [00:45<08:36,  2.31s/ex]"
     ]
    },
    {
     "name": "stdout",
     "output_type": "stream",
     "text": [
      "Warning: Exercițiul 18 nu are imagine asociată.\n"
     ]
    },
    {
     "name": "stderr",
     "output_type": "stream",
     "text": [
      "Evaluare meta-llama/Llama-4-Scout-17B-16E-Instruct:   8%|▊         | 20/242 [00:49<07:59,  2.16s/ex]"
     ]
    },
    {
     "name": "stdout",
     "output_type": "stream",
     "text": [
      "Warning: Exercițiul 20 nu are imagine asociată.\n",
      "\n",
      "📘 Prompt [20]: \n",
      "Nu este furnizată nicio imagine. Răspunde doar pe baza întrebării de mai jos.\n",
      "Întrebare: Nedeclararea, la cererea poliției, a identității persoanelor cărora deținătorii de vehicule le-au încredințat vehiculele proprii se sancționează cu:\n",
      "A: Amendă contravențională și puncte de penalizare\n",
      "B: Amendă contravențională\n",
      "C: Reținerea permisului de conducere\n",
      "Poate exista mai mult de un răspuns corect.\n",
      "Mai întâi oferă doar litera/literele răspunsului corect sub forma:\n",
      "Răspuns: A\n",
      "Apoi oferă o explicație succintă pe un rând nou. \n",
      "Răspuns:\n",
      "✅ Gold: {'B'}\n",
      "🧠 Pred: {'B'}\n",
      "📝 Decoded: Răspuns: B\n",
      "\n",
      "Nedeclararea, la cererea poliției, a identității persoanelor cărora deținătorii de vehicule le-au încredințat vehiculele proprii se sancționează cu amendă contravențională, conform legislației în vigoare privind circulația rutieră.\n",
      "------------------------------------------------------------\n"
     ]
    },
    {
     "name": "stderr",
     "output_type": "stream",
     "text": [
      "Evaluare meta-llama/Llama-4-Scout-17B-16E-Instruct:   9%|▊         | 21/242 [00:52<08:04,  2.19s/ex]"
     ]
    },
    {
     "name": "stdout",
     "output_type": "stream",
     "text": [
      "Warning: Exercițiul 21 nu are imagine asociată.\n"
     ]
    },
    {
     "name": "stderr",
     "output_type": "stream",
     "text": [
      "Evaluare meta-llama/Llama-4-Scout-17B-16E-Instruct:   9%|▉         | 22/242 [00:54<07:48,  2.13s/ex]"
     ]
    },
    {
     "name": "stdout",
     "output_type": "stream",
     "text": [
      "Warning: Exercițiul 22 nu are imagine asociată.\n"
     ]
    },
    {
     "name": "stderr",
     "output_type": "stream",
     "text": [
      "Evaluare meta-llama/Llama-4-Scout-17B-16E-Instruct:  10%|▉         | 23/242 [00:56<08:01,  2.20s/ex]"
     ]
    },
    {
     "name": "stdout",
     "output_type": "stream",
     "text": [
      "Warning: Exercițiul 23 nu are imagine asociată.\n"
     ]
    },
    {
     "name": "stderr",
     "output_type": "stream",
     "text": [
      "Evaluare meta-llama/Llama-4-Scout-17B-16E-Instruct:  10%|▉         | 24/242 [00:58<08:18,  2.29s/ex]"
     ]
    },
    {
     "name": "stdout",
     "output_type": "stream",
     "text": [
      "Warning: Exercițiul 24 nu are imagine asociată.\n"
     ]
    },
    {
     "name": "stderr",
     "output_type": "stream",
     "text": [
      "Evaluare meta-llama/Llama-4-Scout-17B-16E-Instruct:  10%|█         | 25/242 [01:01<08:31,  2.36s/ex]"
     ]
    },
    {
     "name": "stdout",
     "output_type": "stream",
     "text": [
      "Warning: Exercițiul 25 nu are imagine asociată.\n"
     ]
    },
    {
     "name": "stderr",
     "output_type": "stream",
     "text": [
      "Evaluare meta-llama/Llama-4-Scout-17B-16E-Instruct:  11%|█         | 26/242 [01:03<08:07,  2.26s/ex]"
     ]
    },
    {
     "name": "stdout",
     "output_type": "stream",
     "text": [
      "Warning: Exercițiul 26 nu are imagine asociată.\n"
     ]
    },
    {
     "name": "stderr",
     "output_type": "stream",
     "text": [
      "Evaluare meta-llama/Llama-4-Scout-17B-16E-Instruct:  11%|█         | 27/242 [01:06<08:36,  2.40s/ex]"
     ]
    },
    {
     "name": "stdout",
     "output_type": "stream",
     "text": [
      "Warning: Exercițiul 27 nu are imagine asociată.\n"
     ]
    },
    {
     "name": "stderr",
     "output_type": "stream",
     "text": [
      "Evaluare meta-llama/Llama-4-Scout-17B-16E-Instruct:  12%|█▏        | 28/242 [01:08<08:46,  2.46s/ex]"
     ]
    },
    {
     "name": "stdout",
     "output_type": "stream",
     "text": [
      "Warning: Exercițiul 28 nu are imagine asociată.\n"
     ]
    },
    {
     "name": "stderr",
     "output_type": "stream",
     "text": [
      "Evaluare meta-llama/Llama-4-Scout-17B-16E-Instruct:  12%|█▏        | 29/242 [01:10<08:06,  2.29s/ex]"
     ]
    },
    {
     "name": "stdout",
     "output_type": "stream",
     "text": [
      "Warning: Exercițiul 29 nu are imagine asociată.\n"
     ]
    },
    {
     "name": "stderr",
     "output_type": "stream",
     "text": [
      "Evaluare meta-llama/Llama-4-Scout-17B-16E-Instruct:  12%|█▏        | 30/242 [01:12<07:51,  2.22s/ex]"
     ]
    },
    {
     "name": "stdout",
     "output_type": "stream",
     "text": [
      "\n",
      "📘 Prompt [30]: https://huggingface.co/datasets/RKThirteen/ImaginiExamenAuto/resolve/main/Cat_B_poz_212.jpg\n",
      "Imaginea conține o situație rutieră. Răspunde pe baza acesteia și a întrebării de mai jos.\n",
      "Întrebare: Care dintre vehicule trebuie să oprească la semnalul polițistului?\n",
      "A: Toate vehiculele\n",
      "B: Tramvaiele și autoturismul\n",
      "C: Bicicleta\n",
      "Poate exista mai mult de un răspuns corect.\n",
      "Mai întâi oferă doar litera/literele răspunsului corect sub forma:\n",
      "Răspuns: A\n",
      "Apoi oferă o explicație succintă pe un rând nou. \n",
      "Răspuns:\n",
      "✅ Gold: {'B'}\n",
      "🧠 Pred: {'A'}\n",
      "📝 Decoded: Răspuns: A\n",
      "\n",
      "Explicație: Toate vehiculele, inclusiv bicicleta, tramvaiele și autoturismul, sunt obligate să oprească la semnalul polițistului, deoarece acesta are prioritate și poate dirija circulația.\n",
      "------------------------------------------------------------\n"
     ]
    },
    {
     "name": "stderr",
     "output_type": "stream",
     "text": [
      "Evaluare meta-llama/Llama-4-Scout-17B-16E-Instruct:  13%|█▎        | 31/242 [01:15<07:54,  2.25s/ex]"
     ]
    },
    {
     "name": "stdout",
     "output_type": "stream",
     "text": [
      "Warning: Exercițiul 31 nu are imagine asociată.\n"
     ]
    },
    {
     "name": "stderr",
     "output_type": "stream",
     "text": [
      "Evaluare meta-llama/Llama-4-Scout-17B-16E-Instruct:  14%|█▎        | 33/242 [01:21<09:27,  2.72s/ex]"
     ]
    },
    {
     "name": "stdout",
     "output_type": "stream",
     "text": [
      "Warning: Exercițiul 33 nu are imagine asociată.\n"
     ]
    },
    {
     "name": "stderr",
     "output_type": "stream",
     "text": [
      "Evaluare meta-llama/Llama-4-Scout-17B-16E-Instruct:  14%|█▍        | 35/242 [01:25<08:12,  2.38s/ex]"
     ]
    },
    {
     "name": "stdout",
     "output_type": "stream",
     "text": [
      "Warning: Exercițiul 35 nu are imagine asociată.\n"
     ]
    },
    {
     "name": "stderr",
     "output_type": "stream",
     "text": [
      "Evaluare meta-llama/Llama-4-Scout-17B-16E-Instruct:  15%|█▍        | 36/242 [01:27<08:15,  2.40s/ex]"
     ]
    },
    {
     "name": "stdout",
     "output_type": "stream",
     "text": [
      "Warning: Exercițiul 36 nu are imagine asociată.\n"
     ]
    },
    {
     "name": "stderr",
     "output_type": "stream",
     "text": [
      "Evaluare meta-llama/Llama-4-Scout-17B-16E-Instruct:  15%|█▌        | 37/242 [01:30<08:26,  2.47s/ex]"
     ]
    },
    {
     "name": "stdout",
     "output_type": "stream",
     "text": [
      "Warning: Exercițiul 37 nu are imagine asociată.\n"
     ]
    },
    {
     "name": "stderr",
     "output_type": "stream",
     "text": [
      "Evaluare meta-llama/Llama-4-Scout-17B-16E-Instruct:  16%|█▌        | 38/242 [01:32<08:17,  2.44s/ex]"
     ]
    },
    {
     "name": "stdout",
     "output_type": "stream",
     "text": [
      "Warning: Exercițiul 38 nu are imagine asociată.\n"
     ]
    },
    {
     "name": "stderr",
     "output_type": "stream",
     "text": [
      "Evaluare meta-llama/Llama-4-Scout-17B-16E-Instruct:  17%|█▋        | 40/242 [01:36<07:14,  2.15s/ex]"
     ]
    },
    {
     "name": "stdout",
     "output_type": "stream",
     "text": [
      "\n",
      "📘 Prompt [40]: https://huggingface.co/datasets/RKThirteen/ImaginiExamenAuto/resolve/main/Cat_B_poz_947.jpg\n",
      "Imaginea conține o situație rutieră. Răspunde pe baza acesteia și a întrebării de mai jos.\n",
      "Întrebare: Indicatorul alăturat interzice:\n",
      "A: Circulația autovehiculelor destinate transportului de mărfuri, care au distanța dintre osii mai mare de 10 m\n",
      "B: Accesul autovehiculelor sau ansamblurilor de vehicule cu lungimea mai mare de 10 m\n",
      "C: Accesul autovehiculelor destinate transportului de mărfuri, care tractează remorci având o lungime mai mare de 10 m\n",
      "Poate exista mai mult de un răspuns corect.\n",
      "Mai întâi oferă doar litera/literele răspunsului corect sub forma:\n",
      "Răspuns: A\n",
      "Apoi oferă o explicație succintă pe un rând nou. \n",
      "Răspuns:\n",
      "✅ Gold: {'B'}\n",
      "🧠 Pred: {'B'}\n",
      "📝 Decoded: Răspuns: B\n",
      "\n",
      "Indicatorul din imaginea dată, care arată o restricție de lungime pentru vehicule, interzice în mod direct accesul autovehiculelor sau ansamblurilor de vehicule cu lungimea mai mare de 10 m, ceea ce corespunde opțiunii B.\n",
      "------------------------------------------------------------\n"
     ]
    },
    {
     "name": "stderr",
     "output_type": "stream",
     "text": [
      "Evaluare meta-llama/Llama-4-Scout-17B-16E-Instruct:  17%|█▋        | 41/242 [01:38<07:03,  2.11s/ex]"
     ]
    },
    {
     "name": "stdout",
     "output_type": "stream",
     "text": [
      "Warning: Exercițiul 41 nu are imagine asociată.\n"
     ]
    },
    {
     "name": "stderr",
     "output_type": "stream",
     "text": [
      "Evaluare meta-llama/Llama-4-Scout-17B-16E-Instruct:  17%|█▋        | 42/242 [01:40<06:49,  2.05s/ex]"
     ]
    },
    {
     "name": "stdout",
     "output_type": "stream",
     "text": [
      "Warning: Exercițiul 42 nu are imagine asociată.\n"
     ]
    },
    {
     "name": "stderr",
     "output_type": "stream",
     "text": [
      "Evaluare meta-llama/Llama-4-Scout-17B-16E-Instruct:  18%|█▊        | 44/242 [01:43<06:31,  1.98s/ex]"
     ]
    },
    {
     "name": "stdout",
     "output_type": "stream",
     "text": [
      "Warning: Exercițiul 44 nu are imagine asociată.\n"
     ]
    },
    {
     "name": "stderr",
     "output_type": "stream",
     "text": [
      "Evaluare meta-llama/Llama-4-Scout-17B-16E-Instruct:  19%|█▉        | 46/242 [01:51<09:24,  2.88s/ex]"
     ]
    },
    {
     "name": "stdout",
     "output_type": "stream",
     "text": [
      "Warning: Exercițiul 46 nu are imagine asociată.\n"
     ]
    },
    {
     "name": "stderr",
     "output_type": "stream",
     "text": [
      "Evaluare meta-llama/Llama-4-Scout-17B-16E-Instruct:  19%|█▉        | 47/242 [01:53<08:43,  2.68s/ex]"
     ]
    },
    {
     "name": "stdout",
     "output_type": "stream",
     "text": [
      "Warning: Exercițiul 47 nu are imagine asociată.\n"
     ]
    },
    {
     "name": "stderr",
     "output_type": "stream",
     "text": [
      "Evaluare meta-llama/Llama-4-Scout-17B-16E-Instruct:  20%|█▉        | 48/242 [01:55<07:52,  2.44s/ex]"
     ]
    },
    {
     "name": "stdout",
     "output_type": "stream",
     "text": [
      "Warning: Exercițiul 48 nu are imagine asociată.\n"
     ]
    },
    {
     "name": "stderr",
     "output_type": "stream",
     "text": [
      "Evaluare meta-llama/Llama-4-Scout-17B-16E-Instruct:  20%|██        | 49/242 [01:58<08:54,  2.77s/ex]"
     ]
    },
    {
     "name": "stdout",
     "output_type": "stream",
     "text": [
      "Warning: Exercițiul 49 nu are imagine asociată.\n"
     ]
    },
    {
     "name": "stderr",
     "output_type": "stream",
     "text": [
      "Evaluare meta-llama/Llama-4-Scout-17B-16E-Instruct:  21%|██        | 50/242 [02:00<08:16,  2.59s/ex]"
     ]
    },
    {
     "name": "stdout",
     "output_type": "stream",
     "text": [
      "\n",
      "📘 Prompt [50]: https://huggingface.co/datasets/RKThirteen/ImaginiExamenAuto/resolve/main/Cat_B_poz_1043.jpg\n",
      "Imaginea conține o situație rutieră. Răspunde pe baza acesteia și a întrebării de mai jos.\n",
      "Întrebare: În situația dată, sunteți obligat:\n",
      "A: Să virați la dreapta până la indicator\n",
      "B: Să virați la dreapta, deoarece urmează un sector de drum îngustat\n",
      "C: Să ocoliți scuarul pe care este instalat indicatorul\n",
      "Poate exista mai mult de un răspuns corect.\n",
      "Mai întâi oferă doar litera/literele răspunsului corect sub forma:\n",
      "Răspuns: A\n",
      "Apoi oferă o explicație succintă pe un rând nou. \n",
      "Răspuns:\n",
      "✅ Gold: {'A'}\n",
      "🧠 Pred: {'A'}\n",
      "📝 Decoded: Răspuns: A\n",
      "\n",
      "Explicație: În situația dată, indicatorul rutier arată că drumul se îngustează și se impune virarea la dreapta până la indicator pentru a evita obstacolele sau pentru a respecta configurația drumului, astfel răspunsul corect fiind A, deoarece urmează un sector de drum care necesită virarea la dreapta.\n",
      "------------------------------------------------------------\n"
     ]
    },
    {
     "name": "stderr",
     "output_type": "stream",
     "text": [
      "Evaluare meta-llama/Llama-4-Scout-17B-16E-Instruct:  21%|██        | 51/242 [02:03<08:22,  2.63s/ex]"
     ]
    },
    {
     "name": "stdout",
     "output_type": "stream",
     "text": [
      "Warning: Exercițiul 51 nu are imagine asociată.\n"
     ]
    },
    {
     "name": "stderr",
     "output_type": "stream",
     "text": [
      "Evaluare meta-llama/Llama-4-Scout-17B-16E-Instruct:  21%|██▏       | 52/242 [02:05<08:01,  2.53s/ex]"
     ]
    },
    {
     "name": "stdout",
     "output_type": "stream",
     "text": [
      "Warning: Exercițiul 52 nu are imagine asociată.\n"
     ]
    },
    {
     "name": "stderr",
     "output_type": "stream",
     "text": [
      "Evaluare meta-llama/Llama-4-Scout-17B-16E-Instruct:  22%|██▏       | 53/242 [02:07<07:24,  2.35s/ex]"
     ]
    },
    {
     "name": "stdout",
     "output_type": "stream",
     "text": [
      "Warning: Exercițiul 53 nu are imagine asociată.\n"
     ]
    },
    {
     "name": "stderr",
     "output_type": "stream",
     "text": [
      "Evaluare meta-llama/Llama-4-Scout-17B-16E-Instruct:  22%|██▏       | 54/242 [02:09<07:05,  2.26s/ex]"
     ]
    },
    {
     "name": "stdout",
     "output_type": "stream",
     "text": [
      "Warning: Exercițiul 54 nu are imagine asociată.\n"
     ]
    },
    {
     "name": "stderr",
     "output_type": "stream",
     "text": [
      "Evaluare meta-llama/Llama-4-Scout-17B-16E-Instruct:  23%|██▎       | 55/242 [02:11<06:39,  2.14s/ex]"
     ]
    },
    {
     "name": "stdout",
     "output_type": "stream",
     "text": [
      "Warning: Exercițiul 55 nu are imagine asociată.\n"
     ]
    },
    {
     "name": "stderr",
     "output_type": "stream",
     "text": [
      "Evaluare meta-llama/Llama-4-Scout-17B-16E-Instruct:  23%|██▎       | 56/242 [02:13<06:28,  2.09s/ex]"
     ]
    },
    {
     "name": "stdout",
     "output_type": "stream",
     "text": [
      "Warning: Exercițiul 56 nu are imagine asociată.\n"
     ]
    },
    {
     "name": "stderr",
     "output_type": "stream",
     "text": [
      "Evaluare meta-llama/Llama-4-Scout-17B-16E-Instruct:  24%|██▎       | 57/242 [02:16<06:33,  2.12s/ex]"
     ]
    },
    {
     "name": "stdout",
     "output_type": "stream",
     "text": [
      "Warning: Exercițiul 57 nu are imagine asociată.\n"
     ]
    },
    {
     "name": "stderr",
     "output_type": "stream",
     "text": [
      "Evaluare meta-llama/Llama-4-Scout-17B-16E-Instruct:  25%|██▍       | 60/242 [02:23<07:12,  2.38s/ex]"
     ]
    },
    {
     "name": "stdout",
     "output_type": "stream",
     "text": [
      "\n",
      "📘 Prompt [60]: https://huggingface.co/datasets/RKThirteen/ImaginiExamenAuto/resolve/main/Cat_B_poz_1179.jpg\n",
      "Imaginea conține o situație rutieră. Răspunde pe baza acesteia și a întrebării de mai jos.\n",
      "Întrebare: Indicatorul semnifică:\n",
      "A: „aeroport“\n",
      "B: „drum aglomerat“\n",
      "C: „vânt lateral“\n",
      "Poate exista mai mult de un răspuns corect.\n",
      "Mai întâi oferă doar litera/literele răspunsului corect sub forma:\n",
      "Răspuns: A\n",
      "Apoi oferă o explicație succintă pe un rând nou. \n",
      "Răspuns:\n",
      "✅ Gold: {'C'}\n",
      "🧠 Pred: {'C'}\n",
      "📝 Decoded: Răspuns: C\n",
      "\n",
      "Indicatorul din imaginea dată semnifică prezența unui vânt lateral puternic, avertizând șoferii să fie atenți la direcția și viteza vântului pentru a preveni derapajul vehiculului.\n",
      "------------------------------------------------------------\n"
     ]
    },
    {
     "name": "stderr",
     "output_type": "stream",
     "text": [
      "Evaluare meta-llama/Llama-4-Scout-17B-16E-Instruct:  25%|██▌       | 61/242 [02:25<07:02,  2.33s/ex]"
     ]
    },
    {
     "name": "stdout",
     "output_type": "stream",
     "text": [
      "Warning: Exercițiul 61 nu are imagine asociată.\n"
     ]
    },
    {
     "name": "stderr",
     "output_type": "stream",
     "text": [
      "Evaluare meta-llama/Llama-4-Scout-17B-16E-Instruct:  26%|██▌       | 63/242 [02:30<07:25,  2.49s/ex]"
     ]
    },
    {
     "name": "stdout",
     "output_type": "stream",
     "text": [
      "Warning: Exercițiul 63 nu are imagine asociată.\n"
     ]
    },
    {
     "name": "stderr",
     "output_type": "stream",
     "text": [
      "Evaluare meta-llama/Llama-4-Scout-17B-16E-Instruct:  26%|██▋       | 64/242 [02:32<06:52,  2.32s/ex]"
     ]
    },
    {
     "name": "stdout",
     "output_type": "stream",
     "text": [
      "Warning: Exercițiul 64 nu are imagine asociată.\n"
     ]
    },
    {
     "name": "stderr",
     "output_type": "stream",
     "text": [
      "Evaluare meta-llama/Llama-4-Scout-17B-16E-Instruct:  27%|██▋       | 65/242 [02:35<07:04,  2.40s/ex]"
     ]
    },
    {
     "name": "stdout",
     "output_type": "stream",
     "text": [
      "Warning: Exercițiul 65 nu are imagine asociată.\n"
     ]
    },
    {
     "name": "stderr",
     "output_type": "stream",
     "text": [
      "Evaluare meta-llama/Llama-4-Scout-17B-16E-Instruct:  27%|██▋       | 66/242 [02:37<06:50,  2.33s/ex]"
     ]
    },
    {
     "name": "stdout",
     "output_type": "stream",
     "text": [
      "Warning: Exercițiul 66 nu are imagine asociată.\n"
     ]
    },
    {
     "name": "stderr",
     "output_type": "stream",
     "text": [
      "Evaluare meta-llama/Llama-4-Scout-17B-16E-Instruct:  29%|██▉       | 70/242 [02:46<06:35,  2.30s/ex]"
     ]
    },
    {
     "name": "stdout",
     "output_type": "stream",
     "text": [
      "\n",
      "📘 Prompt [70]: https://huggingface.co/datasets/RKThirteen/ImaginiExamenAuto/resolve/main/Cat_B_poz_941.jpg\n",
      "Imaginea conține o situație rutieră. Răspunde pe baza acesteia și a întrebării de mai jos.\n",
      "Întrebare: Panoul adițional semnifică:\n",
      "A: Numărul de kilometri până la ieșirea de pe autostradă\n",
      "B: Numărul nodului rutier pe autostradă\n",
      "C: Indicativul drumului european\n",
      "Poate exista mai mult de un răspuns corect.\n",
      "Mai întâi oferă doar litera/literele răspunsului corect sub forma:\n",
      "Răspuns: A\n",
      "Apoi oferă o explicație succintă pe un rând nou. \n",
      "Răspuns:\n",
      "✅ Gold: {'B'}\n",
      "🧠 Pred: {'B'}\n",
      "📝 Decoded: Răspuns: B\n",
      "\n",
      "Explicație: Panoul adițional de pe imagine arată un număr (în acest caz, probabil \"3\") care de obicei reprezintă numărul nodului rutier pe autostradă, indicând ieșirea sau intersecția cu un alt drum important.\n",
      "------------------------------------------------------------\n"
     ]
    },
    {
     "name": "stderr",
     "output_type": "stream",
     "text": [
      "Evaluare meta-llama/Llama-4-Scout-17B-16E-Instruct:  29%|██▉       | 71/242 [02:49<07:13,  2.54s/ex]"
     ]
    },
    {
     "name": "stdout",
     "output_type": "stream",
     "text": [
      "Warning: Exercițiul 71 nu are imagine asociată.\n"
     ]
    },
    {
     "name": "stderr",
     "output_type": "stream",
     "text": [
      "Evaluare meta-llama/Llama-4-Scout-17B-16E-Instruct:  30%|██▉       | 72/242 [02:51<06:39,  2.35s/ex]"
     ]
    },
    {
     "name": "stdout",
     "output_type": "stream",
     "text": [
      "Warning: Exercițiul 72 nu are imagine asociată.\n"
     ]
    },
    {
     "name": "stderr",
     "output_type": "stream",
     "text": [
      "Evaluare meta-llama/Llama-4-Scout-17B-16E-Instruct:  30%|███       | 73/242 [02:53<06:41,  2.37s/ex]"
     ]
    },
    {
     "name": "stdout",
     "output_type": "stream",
     "text": [
      "Warning: Exercițiul 73 nu are imagine asociată.\n"
     ]
    },
    {
     "name": "stderr",
     "output_type": "stream",
     "text": [
      "Evaluare meta-llama/Llama-4-Scout-17B-16E-Instruct:  31%|███       | 74/242 [02:55<06:18,  2.25s/ex]"
     ]
    },
    {
     "name": "stdout",
     "output_type": "stream",
     "text": [
      "Warning: Exercițiul 74 nu are imagine asociată.\n"
     ]
    },
    {
     "name": "stderr",
     "output_type": "stream",
     "text": [
      "Evaluare meta-llama/Llama-4-Scout-17B-16E-Instruct:  31%|███       | 75/242 [02:58<06:07,  2.20s/ex]"
     ]
    },
    {
     "name": "stdout",
     "output_type": "stream",
     "text": [
      "Warning: Exercițiul 75 nu are imagine asociată.\n"
     ]
    },
    {
     "name": "stderr",
     "output_type": "stream",
     "text": [
      "Evaluare meta-llama/Llama-4-Scout-17B-16E-Instruct:  31%|███▏      | 76/242 [02:59<05:53,  2.13s/ex]"
     ]
    },
    {
     "name": "stdout",
     "output_type": "stream",
     "text": [
      "Warning: Exercițiul 76 nu are imagine asociată.\n"
     ]
    },
    {
     "name": "stderr",
     "output_type": "stream",
     "text": [
      "Evaluare meta-llama/Llama-4-Scout-17B-16E-Instruct:  32%|███▏      | 77/242 [03:02<06:33,  2.38s/ex]"
     ]
    },
    {
     "name": "stdout",
     "output_type": "stream",
     "text": [
      "Warning: Exercițiul 77 nu are imagine asociată.\n"
     ]
    },
    {
     "name": "stderr",
     "output_type": "stream",
     "text": [
      "Evaluare meta-llama/Llama-4-Scout-17B-16E-Instruct:  32%|███▏      | 78/242 [03:05<06:26,  2.36s/ex]"
     ]
    },
    {
     "name": "stdout",
     "output_type": "stream",
     "text": [
      "Warning: Exercițiul 78 nu are imagine asociată.\n"
     ]
    },
    {
     "name": "stderr",
     "output_type": "stream",
     "text": [
      "Evaluare meta-llama/Llama-4-Scout-17B-16E-Instruct:  33%|███▎      | 79/242 [03:07<06:08,  2.26s/ex]"
     ]
    },
    {
     "name": "stdout",
     "output_type": "stream",
     "text": [
      "Warning: Exercițiul 79 nu are imagine asociată.\n"
     ]
    },
    {
     "name": "stderr",
     "output_type": "stream",
     "text": [
      "Evaluare meta-llama/Llama-4-Scout-17B-16E-Instruct:  33%|███▎      | 80/242 [03:09<06:21,  2.36s/ex]"
     ]
    },
    {
     "name": "stdout",
     "output_type": "stream",
     "text": [
      "\n",
      "📘 Prompt [80]: https://huggingface.co/datasets/RKThirteen/ImaginiExamenAuto/resolve/main/Cat_B_poz_1102.jpg\n",
      "Imaginea conține o situație rutieră. Răspunde pe baza acesteia și a întrebării de mai jos.\n",
      "Întrebare: Conducătorul autoturismului roșu s-a angajat corect în depășirea autocamionului?\n",
      "A: Nu, deoarece nu s-a asigurat și nu a semnalizat intenția de a depăși\n",
      "B: Da, deoarece din sens opus nu circulă niciun vehicul\n",
      "C: Nu, deoarece încalcă semnificația indicatorului\n",
      "Poate exista mai mult de un răspuns corect.\n",
      "Mai întâi oferă doar litera/literele răspunsului corect sub forma:\n",
      "Răspuns: A\n",
      "Apoi oferă o explicație succintă pe un rând nou. \n",
      "Răspuns:\n",
      "✅ Gold: {'A'}\n",
      "🧠 Pred: {'C', 'A'}\n",
      "📝 Decoded: Răspuns: A\n",
      "\n",
      "Conducătorul autoturismului roșu nu s-a asigurat și nu a semnalizat intenția de a depăși autocamionul, ceea ce este esențial pentru a realiza o manevră de depășire în siguranță și regulamentară.\n",
      "------------------------------------------------------------\n"
     ]
    },
    {
     "name": "stderr",
     "output_type": "stream",
     "text": [
      "Evaluare meta-llama/Llama-4-Scout-17B-16E-Instruct:  33%|███▎      | 81/242 [03:11<05:59,  2.23s/ex]"
     ]
    },
    {
     "name": "stdout",
     "output_type": "stream",
     "text": [
      "Warning: Exercițiul 81 nu are imagine asociată.\n"
     ]
    },
    {
     "name": "stderr",
     "output_type": "stream",
     "text": [
      "Evaluare meta-llama/Llama-4-Scout-17B-16E-Instruct:  34%|███▍      | 82/242 [03:13<05:39,  2.12s/ex]"
     ]
    },
    {
     "name": "stdout",
     "output_type": "stream",
     "text": [
      "Warning: Exercițiul 82 nu are imagine asociată.\n"
     ]
    },
    {
     "name": "stderr",
     "output_type": "stream",
     "text": [
      "Evaluare meta-llama/Llama-4-Scout-17B-16E-Instruct:  34%|███▍      | 83/242 [03:16<05:59,  2.26s/ex]"
     ]
    },
    {
     "name": "stdout",
     "output_type": "stream",
     "text": [
      "Warning: Exercițiul 83 nu are imagine asociată.\n"
     ]
    },
    {
     "name": "stderr",
     "output_type": "stream",
     "text": [
      "Evaluare meta-llama/Llama-4-Scout-17B-16E-Instruct:  35%|███▍      | 84/242 [03:18<06:10,  2.35s/ex]"
     ]
    },
    {
     "name": "stdout",
     "output_type": "stream",
     "text": [
      "Warning: Exercițiul 84 nu are imagine asociată.\n"
     ]
    },
    {
     "name": "stderr",
     "output_type": "stream",
     "text": [
      "Evaluare meta-llama/Llama-4-Scout-17B-16E-Instruct:  36%|███▋      | 88/242 [03:29<06:34,  2.56s/ex]"
     ]
    },
    {
     "name": "stdout",
     "output_type": "stream",
     "text": [
      "Warning: Exercițiul 88 nu are imagine asociată.\n"
     ]
    },
    {
     "name": "stderr",
     "output_type": "stream",
     "text": [
      "Evaluare meta-llama/Llama-4-Scout-17B-16E-Instruct:  37%|███▋      | 89/242 [03:30<06:02,  2.37s/ex]"
     ]
    },
    {
     "name": "stdout",
     "output_type": "stream",
     "text": [
      "Warning: Exercițiul 89 nu are imagine asociată.\n"
     ]
    },
    {
     "name": "stderr",
     "output_type": "stream",
     "text": [
      "Evaluare meta-llama/Llama-4-Scout-17B-16E-Instruct:  37%|███▋      | 90/242 [03:33<05:52,  2.32s/ex]"
     ]
    },
    {
     "name": "stdout",
     "output_type": "stream",
     "text": [
      "Warning: Exercițiul 90 nu are imagine asociată.\n",
      "\n",
      "📘 Prompt [90]: \n",
      "Nu este furnizată nicio imagine. Răspunde doar pe baza întrebării de mai jos.\n",
      "Întrebare: Cum se semnalizează, noaptea, intenția de a depăși alt vehicul, într-o localitate, pe un drum neiluminat?\n",
      "A: Cu faza de drum a luminii farurilor\n",
      "B: Cu luminile indicatoare de direcție\n",
      "C: Prin folosirea combinată a fazei scurte și a semnalului sonor\n",
      "Poate exista mai mult de un răspuns corect.\n",
      "Mai întâi oferă doar litera/literele răspunsului corect sub forma:\n",
      "Răspuns: A\n",
      "Apoi oferă o explicație succintă pe un rând nou. \n",
      "Răspuns:\n",
      "✅ Gold: {'B'}\n",
      "🧠 Pred: {'C'}\n",
      "📝 Decoded: Răspuns: C\n",
      "\n",
      "Explicație: Pentru a semnaliza intenția de a depăși noaptea, pe un drum neiluminat, se utilizează faza scurtă în combinație cu semnalul sonor.\n",
      "------------------------------------------------------------\n"
     ]
    },
    {
     "name": "stderr",
     "output_type": "stream",
     "text": [
      "Evaluare meta-llama/Llama-4-Scout-17B-16E-Instruct:  38%|███▊      | 91/242 [03:35<05:45,  2.29s/ex]"
     ]
    },
    {
     "name": "stdout",
     "output_type": "stream",
     "text": [
      "Warning: Exercițiul 91 nu are imagine asociată.\n"
     ]
    },
    {
     "name": "stderr",
     "output_type": "stream",
     "text": [
      "Evaluare meta-llama/Llama-4-Scout-17B-16E-Instruct:  38%|███▊      | 92/242 [03:37<05:44,  2.30s/ex]"
     ]
    },
    {
     "name": "stdout",
     "output_type": "stream",
     "text": [
      "Warning: Exercițiul 92 nu are imagine asociată.\n"
     ]
    },
    {
     "name": "stderr",
     "output_type": "stream",
     "text": [
      "Evaluare meta-llama/Llama-4-Scout-17B-16E-Instruct:  38%|███▊      | 93/242 [03:40<05:42,  2.30s/ex]"
     ]
    },
    {
     "name": "stdout",
     "output_type": "stream",
     "text": [
      "Warning: Exercițiul 93 nu are imagine asociată.\n"
     ]
    },
    {
     "name": "stderr",
     "output_type": "stream",
     "text": [
      "Evaluare meta-llama/Llama-4-Scout-17B-16E-Instruct:  40%|████      | 98/242 [03:50<05:11,  2.16s/ex]"
     ]
    },
    {
     "name": "stdout",
     "output_type": "stream",
     "text": [
      "Warning: Exercițiul 98 nu are imagine asociată.\n"
     ]
    },
    {
     "name": "stderr",
     "output_type": "stream",
     "text": [
      "Evaluare meta-llama/Llama-4-Scout-17B-16E-Instruct:  41%|████      | 99/242 [03:53<05:16,  2.21s/ex]"
     ]
    },
    {
     "name": "stdout",
     "output_type": "stream",
     "text": [
      "Warning: Exercițiul 99 nu are imagine asociată.\n"
     ]
    },
    {
     "name": "stderr",
     "output_type": "stream",
     "text": [
      "Evaluare meta-llama/Llama-4-Scout-17B-16E-Instruct:  41%|████▏     | 100/242 [03:56<05:47,  2.44s/ex]"
     ]
    },
    {
     "name": "stdout",
     "output_type": "stream",
     "text": [
      "Warning: Exercițiul 100 nu are imagine asociată.\n",
      "\n",
      "📘 Prompt [100]: \n",
      "Nu este furnizată nicio imagine. Răspunde doar pe baza întrebării de mai jos.\n",
      "Întrebare: Folosirea incorectă, pe timp de noapte, a luminilor de drum la întâlnirea cu alt autovehicul care circulă din sens opus, se sancționează cu:\n",
      "A: Suspendarea exercitării dreptului de a conduce autovehicule, dacă această contravenție a fost săvârșită în mod repetat\n",
      "B: Anularea permisului de conducere\n",
      "C: Amendă și puncte de penalizare\n",
      "Poate exista mai mult de un răspuns corect.\n",
      "Mai întâi oferă doar litera/literele răspunsului corect sub forma:\n",
      "Răspuns: A\n",
      "Apoi oferă o explicație succintă pe un rând nou. \n",
      "Răspuns:\n",
      "✅ Gold: {'C'}\n",
      "🧠 Pred: {'C'}\n",
      "📝 Decoded: Răspuns: C\n",
      "Folosirea incorectă a luminilor de drum pe timp de noapte la întâlnirea cu alt autovehicul care circulă din sens opus se sancționează cu amendă și puncte de penalizare, conform legislației rutiere.\n",
      "------------------------------------------------------------\n"
     ]
    },
    {
     "name": "stderr",
     "output_type": "stream",
     "text": [
      "Evaluare meta-llama/Llama-4-Scout-17B-16E-Instruct:  42%|████▏     | 101/242 [03:57<05:20,  2.27s/ex]"
     ]
    },
    {
     "name": "stdout",
     "output_type": "stream",
     "text": [
      "Warning: Exercițiul 101 nu are imagine asociată.\n"
     ]
    },
    {
     "name": "stderr",
     "output_type": "stream",
     "text": [
      "Evaluare meta-llama/Llama-4-Scout-17B-16E-Instruct:  42%|████▏     | 102/242 [04:00<05:23,  2.31s/ex]"
     ]
    },
    {
     "name": "stdout",
     "output_type": "stream",
     "text": [
      "Warning: Exercițiul 102 nu are imagine asociată.\n"
     ]
    },
    {
     "name": "stderr",
     "output_type": "stream",
     "text": [
      "Evaluare meta-llama/Llama-4-Scout-17B-16E-Instruct:  43%|████▎     | 103/242 [04:02<05:32,  2.39s/ex]"
     ]
    },
    {
     "name": "stdout",
     "output_type": "stream",
     "text": [
      "Warning: Exercițiul 103 nu are imagine asociată.\n"
     ]
    },
    {
     "name": "stderr",
     "output_type": "stream",
     "text": [
      "Evaluare meta-llama/Llama-4-Scout-17B-16E-Instruct:  45%|████▍     | 108/242 [04:14<05:10,  2.32s/ex]"
     ]
    },
    {
     "name": "stdout",
     "output_type": "stream",
     "text": [
      "Warning: Exercițiul 108 nu are imagine asociată.\n"
     ]
    },
    {
     "name": "stderr",
     "output_type": "stream",
     "text": [
      "Evaluare meta-llama/Llama-4-Scout-17B-16E-Instruct:  45%|████▌     | 109/242 [04:16<04:49,  2.18s/ex]"
     ]
    },
    {
     "name": "stdout",
     "output_type": "stream",
     "text": [
      "Warning: Exercițiul 109 nu are imagine asociată.\n"
     ]
    },
    {
     "name": "stderr",
     "output_type": "stream",
     "text": [
      "Evaluare meta-llama/Llama-4-Scout-17B-16E-Instruct:  45%|████▌     | 110/242 [04:19<05:07,  2.33s/ex]"
     ]
    },
    {
     "name": "stdout",
     "output_type": "stream",
     "text": [
      "Warning: Exercițiul 110 nu are imagine asociată.\n",
      "\n",
      "📘 Prompt [110]: \n",
      "Nu este furnizată nicio imagine. Răspunde doar pe baza întrebării de mai jos.\n",
      "Întrebare: Este corectă manevra de devansare pe autostradă a unui autovehicul pe banda dreaptă a acestuia?\n",
      "A: Da\n",
      "B: Nu\n",
      "C: Da, dar numai dacă se folosesc semnalele de atenționare sonore și luminoase\n",
      "Poate exista mai mult de un răspuns corect.\n",
      "Mai întâi oferă doar litera/literele răspunsului corect sub forma:\n",
      "Răspuns: A\n",
      "Apoi oferă o explicație succintă pe un rând nou. \n",
      "Răspuns:\n",
      "✅ Gold: {'A'}\n",
      "🧠 Pred: {'B'}\n",
      "📝 Decoded: Răspuns: B\n",
      "\n",
      "Devierea pe banda dreaptă pe autostradă este interzisă, deoarece pe autostradă, banda dreaptă este banda de circulație, iar devansarea se face pe banda din stânga.\n",
      "------------------------------------------------------------\n"
     ]
    },
    {
     "name": "stderr",
     "output_type": "stream",
     "text": [
      "Evaluare meta-llama/Llama-4-Scout-17B-16E-Instruct:  46%|████▌     | 111/242 [04:21<04:54,  2.25s/ex]"
     ]
    },
    {
     "name": "stdout",
     "output_type": "stream",
     "text": [
      "Warning: Exercițiul 111 nu are imagine asociată.\n"
     ]
    },
    {
     "name": "stderr",
     "output_type": "stream",
     "text": [
      "Evaluare meta-llama/Llama-4-Scout-17B-16E-Instruct:  46%|████▋     | 112/242 [04:23<04:54,  2.26s/ex]"
     ]
    },
    {
     "name": "stdout",
     "output_type": "stream",
     "text": [
      "Warning: Exercițiul 112 nu are imagine asociată.\n"
     ]
    },
    {
     "name": "stderr",
     "output_type": "stream",
     "text": [
      "Evaluare meta-llama/Llama-4-Scout-17B-16E-Instruct:  47%|████▋     | 113/242 [04:25<04:37,  2.15s/ex]"
     ]
    },
    {
     "name": "stdout",
     "output_type": "stream",
     "text": [
      "Warning: Exercițiul 113 nu are imagine asociată.\n"
     ]
    },
    {
     "name": "stderr",
     "output_type": "stream",
     "text": [
      "Evaluare meta-llama/Llama-4-Scout-17B-16E-Instruct:  47%|████▋     | 114/242 [04:27<04:50,  2.27s/ex]"
     ]
    },
    {
     "name": "stdout",
     "output_type": "stream",
     "text": [
      "Warning: Exercițiul 114 nu are imagine asociată.\n"
     ]
    },
    {
     "name": "stderr",
     "output_type": "stream",
     "text": [
      "Evaluare meta-llama/Llama-4-Scout-17B-16E-Instruct:  48%|████▊     | 115/242 [04:34<07:42,  3.64s/ex]"
     ]
    },
    {
     "name": "stdout",
     "output_type": "stream",
     "text": [
      "Warning: Exercițiul 115 nu are imagine asociată.\n"
     ]
    },
    {
     "name": "stderr",
     "output_type": "stream",
     "text": [
      "Evaluare meta-llama/Llama-4-Scout-17B-16E-Instruct:  48%|████▊     | 116/242 [04:38<07:23,  3.52s/ex]"
     ]
    },
    {
     "name": "stdout",
     "output_type": "stream",
     "text": [
      "Warning: Exercițiul 116 nu are imagine asociată.\n"
     ]
    },
    {
     "name": "stderr",
     "output_type": "stream",
     "text": [
      "Evaluare meta-llama/Llama-4-Scout-17B-16E-Instruct:  48%|████▊     | 117/242 [04:40<06:49,  3.28s/ex]"
     ]
    },
    {
     "name": "stdout",
     "output_type": "stream",
     "text": [
      "Warning: Exercițiul 117 nu are imagine asociată.\n"
     ]
    },
    {
     "name": "stderr",
     "output_type": "stream",
     "text": [
      "Evaluare meta-llama/Llama-4-Scout-17B-16E-Instruct:  49%|████▉     | 118/242 [04:42<06:01,  2.92s/ex]"
     ]
    },
    {
     "name": "stdout",
     "output_type": "stream",
     "text": [
      "Warning: Exercițiul 118 nu are imagine asociată.\n"
     ]
    },
    {
     "name": "stderr",
     "output_type": "stream",
     "text": [
      "Evaluare meta-llama/Llama-4-Scout-17B-16E-Instruct:  49%|████▉     | 119/242 [04:45<05:41,  2.78s/ex]"
     ]
    },
    {
     "name": "stdout",
     "output_type": "stream",
     "text": [
      "Warning: Exercițiul 119 nu are imagine asociată.\n"
     ]
    },
    {
     "name": "stderr",
     "output_type": "stream",
     "text": [
      "Evaluare meta-llama/Llama-4-Scout-17B-16E-Instruct:  50%|████▉     | 120/242 [04:47<05:21,  2.64s/ex]"
     ]
    },
    {
     "name": "stdout",
     "output_type": "stream",
     "text": [
      "\n",
      "📘 Prompt [120]: https://huggingface.co/datasets/RKThirteen/ImaginiExamenAuto/resolve/main/Cat_B_poz_47.jpg\n",
      "Imaginea conține o situație rutieră. Răspunde pe baza acesteia și a întrebării de mai jos.\n",
      "Întrebare: Cum trebuie să procedați dacă virați la stânga?\n",
      "A: Cedați trecerea autovehiculului alb\n",
      "B: Accelerați, pentru a nu vă intersecta cu autovehiculul alb\n",
      "C: Executați manevra cu luminile de avarie aprinse\n",
      "Poate exista mai mult de un răspuns corect.\n",
      "Mai întâi oferă doar litera/literele răspunsului corect sub forma:\n",
      "Răspuns: A\n",
      "Apoi oferă o explicație succintă pe un rând nou. \n",
      "Răspuns:\n",
      "✅ Gold: {'A'}\n",
      "🧠 Pred: {'A'}\n",
      "📝 Decoded: Răspuns: A\n",
      "\n",
      "Explicație: Pentru că autovehiculul din dreapta (cel alb) are prioritate, fiind pe sensul principal de mers și având deja drept de trecere, șoferul care virează la stânga trebuie să cedeze trecerea.\n",
      "------------------------------------------------------------\n"
     ]
    },
    {
     "name": "stderr",
     "output_type": "stream",
     "text": [
      "Evaluare meta-llama/Llama-4-Scout-17B-16E-Instruct:  50%|█████     | 121/242 [04:50<05:11,  2.58s/ex]"
     ]
    },
    {
     "name": "stdout",
     "output_type": "stream",
     "text": [
      "Warning: Exercițiul 121 nu are imagine asociată.\n"
     ]
    },
    {
     "name": "stderr",
     "output_type": "stream",
     "text": [
      "Evaluare meta-llama/Llama-4-Scout-17B-16E-Instruct:  50%|█████     | 122/242 [04:52<05:07,  2.56s/ex]"
     ]
    },
    {
     "name": "stdout",
     "output_type": "stream",
     "text": [
      "Warning: Exercițiul 122 nu are imagine asociată.\n"
     ]
    },
    {
     "name": "stderr",
     "output_type": "stream",
     "text": [
      "Evaluare meta-llama/Llama-4-Scout-17B-16E-Instruct:  51%|█████     | 123/242 [04:54<04:58,  2.51s/ex]"
     ]
    },
    {
     "name": "stdout",
     "output_type": "stream",
     "text": [
      "Warning: Exercițiul 123 nu are imagine asociată.\n"
     ]
    },
    {
     "name": "stderr",
     "output_type": "stream",
     "text": [
      "Evaluare meta-llama/Llama-4-Scout-17B-16E-Instruct:  51%|█████     | 124/242 [04:57<04:55,  2.51s/ex]"
     ]
    },
    {
     "name": "stdout",
     "output_type": "stream",
     "text": [
      "Warning: Exercițiul 124 nu are imagine asociată.\n"
     ]
    },
    {
     "name": "stderr",
     "output_type": "stream",
     "text": [
      "Evaluare meta-llama/Llama-4-Scout-17B-16E-Instruct:  52%|█████▏    | 126/242 [05:02<04:38,  2.40s/ex]"
     ]
    },
    {
     "name": "stdout",
     "output_type": "stream",
     "text": [
      "Warning: Exercițiul 126 nu are imagine asociată.\n"
     ]
    },
    {
     "name": "stderr",
     "output_type": "stream",
     "text": [
      "Evaluare meta-llama/Llama-4-Scout-17B-16E-Instruct:  53%|█████▎    | 128/242 [05:06<04:03,  2.14s/ex]"
     ]
    },
    {
     "name": "stdout",
     "output_type": "stream",
     "text": [
      "Warning: Exercițiul 128 nu are imagine asociată.\n"
     ]
    },
    {
     "name": "stderr",
     "output_type": "stream",
     "text": [
      "Evaluare meta-llama/Llama-4-Scout-17B-16E-Instruct:  54%|█████▎    | 130/242 [05:10<03:55,  2.10s/ex]"
     ]
    },
    {
     "name": "stdout",
     "output_type": "stream",
     "text": [
      "\n",
      "📘 Prompt [130]: https://huggingface.co/datasets/RKThirteen/ImaginiExamenAuto/resolve/main/Cat_B_poz_162.jpg\n",
      "Imaginea conține o situație rutieră. Răspunde pe baza acesteia și a întrebării de mai jos.\n",
      "Întrebare: Panoul adițional semnifică:\n",
      "A: O trecere la nivel cu calea ferată cu bariere, prevăzută cu instalație de semnalizare luminoasă automată\n",
      "B: Urmează un sector de drum îngustat\n",
      "C: Prioritate pentru circulația din sens invers\n",
      "Poate exista mai mult de un răspuns corect.\n",
      "Mai întâi oferă doar litera/literele răspunsului corect sub forma:\n",
      "Răspuns: A\n",
      "Apoi oferă o explicație succintă pe un rând nou. \n",
      "Răspuns:\n",
      "✅ Gold: {'A'}\n",
      "🧠 Pred: {'B'}\n",
      "📝 Decoded: Răspuns: B\n",
      "\n",
      "Panoul adițional indică faptul că urmează un sector de drum îngustat, ceea ce impune reducerea vitezei și pregătirea pentru adaptarea la condițiile de drum modificate.\n",
      "------------------------------------------------------------\n"
     ]
    },
    {
     "name": "stderr",
     "output_type": "stream",
     "text": [
      "Evaluare meta-llama/Llama-4-Scout-17B-16E-Instruct:  54%|█████▍    | 131/242 [05:12<04:00,  2.17s/ex]"
     ]
    },
    {
     "name": "stdout",
     "output_type": "stream",
     "text": [
      "Warning: Exercițiul 131 nu are imagine asociată.\n"
     ]
    },
    {
     "name": "stderr",
     "output_type": "stream",
     "text": [
      "Evaluare meta-llama/Llama-4-Scout-17B-16E-Instruct:  55%|█████▌    | 134/242 [05:20<04:35,  2.55s/ex]"
     ]
    },
    {
     "name": "stdout",
     "output_type": "stream",
     "text": [
      "Warning: Exercițiul 134 nu are imagine asociată.\n"
     ]
    },
    {
     "name": "stderr",
     "output_type": "stream",
     "text": [
      "Evaluare meta-llama/Llama-4-Scout-17B-16E-Instruct:  57%|█████▋    | 137/242 [05:28<04:32,  2.59s/ex]"
     ]
    },
    {
     "name": "stdout",
     "output_type": "stream",
     "text": [
      "Warning: Exercițiul 137 nu are imagine asociată.\n"
     ]
    },
    {
     "name": "stderr",
     "output_type": "stream",
     "text": [
      "Evaluare meta-llama/Llama-4-Scout-17B-16E-Instruct:  57%|█████▋    | 138/242 [05:30<04:10,  2.41s/ex]"
     ]
    },
    {
     "name": "stdout",
     "output_type": "stream",
     "text": [
      "Warning: Exercițiul 138 nu are imagine asociată.\n"
     ]
    },
    {
     "name": "stderr",
     "output_type": "stream",
     "text": [
      "Evaluare meta-llama/Llama-4-Scout-17B-16E-Instruct:  57%|█████▋    | 139/242 [05:33<04:15,  2.48s/ex]"
     ]
    },
    {
     "name": "stdout",
     "output_type": "stream",
     "text": [
      "Warning: Exercițiul 139 nu are imagine asociată.\n"
     ]
    },
    {
     "name": "stderr",
     "output_type": "stream",
     "text": [
      "Evaluare meta-llama/Llama-4-Scout-17B-16E-Instruct:  58%|█████▊    | 140/242 [05:35<04:17,  2.52s/ex]"
     ]
    },
    {
     "name": "stdout",
     "output_type": "stream",
     "text": [
      "\n",
      "📘 Prompt [140]: https://huggingface.co/datasets/RKThirteen/ImaginiExamenAuto/resolve/main/Cat_B_poz_485.jpg\n",
      "Imaginea conține o situație rutieră. Răspunde pe baza acesteia și a întrebării de mai jos.\n",
      "Întrebare: Cum procedați în situația dată?\n",
      "A: Circulați cu viteză redusă și, la nevoie, opriți pentru a permite autobuzului să reintre în trafic\n",
      "B: Depășiți autobuzul\n",
      "C: Sunteți obligat să opriți\n",
      "Poate exista mai mult de un răspuns corect.\n",
      "Mai întâi oferă doar litera/literele răspunsului corect sub forma:\n",
      "Răspuns: A\n",
      "Apoi oferă o explicație succintă pe un rând nou. \n",
      "Răspuns:\n",
      "✅ Gold: {'A'}\n",
      "🧠 Pred: {'A'}\n",
      "📝 Decoded: Răspuns: A\n",
      "\n",
      "Explicație: În situația dată, autobuzul este pe punctul de a reintra în trafic, deci pentru a evita un posibil accident, se impune ca ceilalți participanți la trafic, în acest caz cel care conduce autoturismul, să reducă viteza și, dacă este nevoie, să oprească pentru a-i permite autobuzului să reintre în trafic în siguranță.\n",
      "------------------------------------------------------------\n"
     ]
    },
    {
     "name": "stderr",
     "output_type": "stream",
     "text": [
      "Evaluare meta-llama/Llama-4-Scout-17B-16E-Instruct:  59%|█████▉    | 143/242 [05:44<04:31,  2.74s/ex]"
     ]
    },
    {
     "name": "stdout",
     "output_type": "stream",
     "text": [
      "Warning: Exercițiul 143 nu are imagine asociată.\n"
     ]
    },
    {
     "name": "stderr",
     "output_type": "stream",
     "text": [
      "Evaluare meta-llama/Llama-4-Scout-17B-16E-Instruct:  60%|██████    | 146/242 [05:52<04:40,  2.92s/ex]"
     ]
    },
    {
     "name": "stdout",
     "output_type": "stream",
     "text": [
      "Warning: Exercițiul 146 nu are imagine asociată.\n"
     ]
    },
    {
     "name": "stderr",
     "output_type": "stream",
     "text": [
      "Evaluare meta-llama/Llama-4-Scout-17B-16E-Instruct:  62%|██████▏   | 149/242 [05:59<03:56,  2.54s/ex]"
     ]
    },
    {
     "name": "stdout",
     "output_type": "stream",
     "text": [
      "Warning: Exercițiul 149 nu are imagine asociată.\n"
     ]
    },
    {
     "name": "stderr",
     "output_type": "stream",
     "text": [
      "Evaluare meta-llama/Llama-4-Scout-17B-16E-Instruct:  62%|██████▏   | 150/242 [06:02<03:51,  2.52s/ex]"
     ]
    },
    {
     "name": "stdout",
     "output_type": "stream",
     "text": [
      "Warning: Exercițiul 150 nu are imagine asociată.\n",
      "\n",
      "📘 Prompt [150]: \n",
      "Nu este furnizată nicio imagine. Răspunde doar pe baza întrebării de mai jos.\n",
      "Întrebare: Consumul de carburant se mărește dacă:\n",
      "A: Lichidul de răcire nu conține antigel\n",
      "B: Sistemul de direcție este manual\n",
      "C: Folosiți orice aparat electric alimentat de generatorul autovehiculului\n",
      "Poate exista mai mult de un răspuns corect.\n",
      "Mai întâi oferă doar litera/literele răspunsului corect sub forma:\n",
      "Răspuns: A\n",
      "Apoi oferă o explicație succintă pe un rând nou. \n",
      "Răspuns:\n",
      "✅ Gold: {'C'}\n",
      "🧠 Pred: {'C'}\n",
      "📝 Decoded: Răspuns: C\n",
      "\n",
      "Consumul de carburant se mărește atunci când sunt folosiți aparatelor electrice alimentate de generatorul autovehiculului, deoarece acest lucru crește sarcina generatorului și, implicit, consumul de energie mecanică de la motor, ceea ce duce la un consum mai mare de carburant.\n",
      "------------------------------------------------------------\n"
     ]
    },
    {
     "name": "stderr",
     "output_type": "stream",
     "text": [
      "Evaluare meta-llama/Llama-4-Scout-17B-16E-Instruct:  62%|██████▏   | 151/242 [06:04<03:56,  2.60s/ex]"
     ]
    },
    {
     "name": "stdout",
     "output_type": "stream",
     "text": [
      "Warning: Exercițiul 151 nu are imagine asociată.\n"
     ]
    },
    {
     "name": "stderr",
     "output_type": "stream",
     "text": [
      "Evaluare meta-llama/Llama-4-Scout-17B-16E-Instruct:  63%|██████▎   | 152/242 [06:06<03:33,  2.38s/ex]"
     ]
    },
    {
     "name": "stdout",
     "output_type": "stream",
     "text": [
      "Warning: Exercițiul 152 nu are imagine asociată.\n"
     ]
    },
    {
     "name": "stderr",
     "output_type": "stream",
     "text": [
      "Evaluare meta-llama/Llama-4-Scout-17B-16E-Instruct:  63%|██████▎   | 153/242 [06:08<03:16,  2.21s/ex]"
     ]
    },
    {
     "name": "stdout",
     "output_type": "stream",
     "text": [
      "Warning: Exercițiul 153 nu are imagine asociată.\n"
     ]
    },
    {
     "name": "stderr",
     "output_type": "stream",
     "text": [
      "Evaluare meta-llama/Llama-4-Scout-17B-16E-Instruct:  64%|██████▎   | 154/242 [06:10<03:16,  2.23s/ex]"
     ]
    },
    {
     "name": "stdout",
     "output_type": "stream",
     "text": [
      "Warning: Exercițiul 154 nu are imagine asociată.\n"
     ]
    },
    {
     "name": "stderr",
     "output_type": "stream",
     "text": [
      "Evaluare meta-llama/Llama-4-Scout-17B-16E-Instruct:  64%|██████▍   | 156/242 [06:15<03:18,  2.31s/ex]"
     ]
    },
    {
     "name": "stdout",
     "output_type": "stream",
     "text": [
      "Warning: Exercițiul 156 nu are imagine asociată.\n"
     ]
    },
    {
     "name": "stderr",
     "output_type": "stream",
     "text": [
      "Evaluare meta-llama/Llama-4-Scout-17B-16E-Instruct:  65%|██████▍   | 157/242 [06:18<03:34,  2.52s/ex]"
     ]
    },
    {
     "name": "stdout",
     "output_type": "stream",
     "text": [
      "Warning: Exercițiul 157 nu are imagine asociată.\n"
     ]
    },
    {
     "name": "stderr",
     "output_type": "stream",
     "text": [
      "Evaluare meta-llama/Llama-4-Scout-17B-16E-Instruct:  66%|██████▌   | 159/242 [06:23<03:23,  2.45s/ex]"
     ]
    },
    {
     "name": "stdout",
     "output_type": "stream",
     "text": [
      "Warning: Exercițiul 159 nu are imagine asociată.\n"
     ]
    },
    {
     "name": "stderr",
     "output_type": "stream",
     "text": [
      "Evaluare meta-llama/Llama-4-Scout-17B-16E-Instruct:  66%|██████▌   | 160/242 [06:25<03:07,  2.29s/ex]"
     ]
    },
    {
     "name": "stdout",
     "output_type": "stream",
     "text": [
      "Warning: Exercițiul 160 nu are imagine asociată.\n",
      "\n",
      "📘 Prompt [160]: \n",
      "Nu este furnizată nicio imagine. Răspunde doar pe baza întrebării de mai jos.\n",
      "Întrebare: Ce semnifică semnalul polițistului aflat într-o intersecție, cu brațul drept întins orizontal?\n",
      "A: Oprire pentru vehiculele și pietonii care vin din fața acestuia\n",
      "B: Oprire pentru vehiculele și pietonii care vin din spatele acestuia\n",
      "C: Oprire pentru vehiculele și pietonii care vin din fața și din spatele acestuia\n",
      "Poate exista mai mult de un răspuns corect.\n",
      "Mai întâi oferă doar litera/literele răspunsului corect sub forma:\n",
      "Răspuns: A\n",
      "Apoi oferă o explicație succintă pe un rând nou. \n",
      "Răspuns:\n",
      "✅ Gold: {'B'}\n",
      "🧠 Pred: {'A'}\n",
      "📝 Decoded: Răspuns: A\n",
      "\n",
      "Semnalul polițistului cu brațul drept întins orizontal semnifică oprirea pentru vehiculele și pietonii care vin din fața acestuia, permițând celorlalți să continue drumul în funcție de direcția în care se află și de semnificația specifică a poziției sale.\n",
      "------------------------------------------------------------\n"
     ]
    },
    {
     "name": "stderr",
     "output_type": "stream",
     "text": [
      "Evaluare meta-llama/Llama-4-Scout-17B-16E-Instruct:  67%|██████▋   | 161/242 [06:27<03:09,  2.34s/ex]"
     ]
    },
    {
     "name": "stdout",
     "output_type": "stream",
     "text": [
      "Warning: Exercițiul 161 nu are imagine asociată.\n"
     ]
    },
    {
     "name": "stderr",
     "output_type": "stream",
     "text": [
      "Evaluare meta-llama/Llama-4-Scout-17B-16E-Instruct:  67%|██████▋   | 163/242 [06:33<03:24,  2.59s/ex]"
     ]
    },
    {
     "name": "stdout",
     "output_type": "stream",
     "text": [
      "Warning: Exercițiul 163 nu are imagine asociată.\n"
     ]
    },
    {
     "name": "stderr",
     "output_type": "stream",
     "text": [
      "Evaluare meta-llama/Llama-4-Scout-17B-16E-Instruct:  68%|██████▊   | 165/242 [06:37<03:06,  2.42s/ex]"
     ]
    },
    {
     "name": "stdout",
     "output_type": "stream",
     "text": [
      "Warning: Exercițiul 165 nu are imagine asociată.\n"
     ]
    },
    {
     "name": "stderr",
     "output_type": "stream",
     "text": [
      "Evaluare meta-llama/Llama-4-Scout-17B-16E-Instruct:  69%|██████▊   | 166/242 [06:40<03:06,  2.45s/ex]"
     ]
    },
    {
     "name": "stdout",
     "output_type": "stream",
     "text": [
      "Warning: Exercițiul 166 nu are imagine asociată.\n"
     ]
    },
    {
     "name": "stderr",
     "output_type": "stream",
     "text": [
      "Evaluare meta-llama/Llama-4-Scout-17B-16E-Instruct:  69%|██████▉   | 167/242 [06:42<03:01,  2.43s/ex]"
     ]
    },
    {
     "name": "stdout",
     "output_type": "stream",
     "text": [
      "Warning: Exercițiul 167 nu are imagine asociată.\n"
     ]
    },
    {
     "name": "stderr",
     "output_type": "stream",
     "text": [
      "Evaluare meta-llama/Llama-4-Scout-17B-16E-Instruct:  69%|██████▉   | 168/242 [06:44<02:47,  2.26s/ex]"
     ]
    },
    {
     "name": "stdout",
     "output_type": "stream",
     "text": [
      "Warning: Exercițiul 168 nu are imagine asociată.\n"
     ]
    },
    {
     "name": "stderr",
     "output_type": "stream",
     "text": [
      "Evaluare meta-llama/Llama-4-Scout-17B-16E-Instruct:  70%|███████   | 170/242 [06:49<02:41,  2.25s/ex]"
     ]
    },
    {
     "name": "stdout",
     "output_type": "stream",
     "text": [
      "Warning: Exercițiul 170 nu are imagine asociată.\n",
      "\n",
      "📘 Prompt [170]: \n",
      "Nu este furnizată nicio imagine. Răspunde doar pe baza întrebării de mai jos.\n",
      "Întrebare: Gravitatea unei hemoragii se apreciază în funcție de:\n",
      "A: Cantitatea sângelui pierdut\n",
      "B: Culoarea sângelui scurs\n",
      "C: Fluiditatea sângelui scurs\n",
      "Poate exista mai mult de un răspuns corect.\n",
      "Mai întâi oferă doar litera/literele răspunsului corect sub forma:\n",
      "Răspuns: A\n",
      "Apoi oferă o explicație succintă pe un rând nou. \n",
      "Răspuns:\n",
      "✅ Gold: {'A'}\n",
      "🧠 Pred: {'A'}\n",
      "📝 Decoded: Răspuns: A\n",
      "\n",
      "Explicație: Gravitatea unei hemoragii se apreciază în funcție de cantitatea sângelui pierdut, care poate duce la șoc hemoragic și poate fi fatală dacă nu este tratată prompt.\n",
      "------------------------------------------------------------\n"
     ]
    },
    {
     "name": "stderr",
     "output_type": "stream",
     "text": [
      "Evaluare meta-llama/Llama-4-Scout-17B-16E-Instruct:  71%|███████   | 171/242 [06:51<02:29,  2.11s/ex]"
     ]
    },
    {
     "name": "stdout",
     "output_type": "stream",
     "text": [
      "Warning: Exercițiul 171 nu are imagine asociată.\n"
     ]
    },
    {
     "name": "stderr",
     "output_type": "stream",
     "text": [
      "Evaluare meta-llama/Llama-4-Scout-17B-16E-Instruct:  72%|███████▏  | 174/242 [06:58<02:41,  2.38s/ex]"
     ]
    },
    {
     "name": "stdout",
     "output_type": "stream",
     "text": [
      "Warning: Exercițiul 174 nu are imagine asociată.\n"
     ]
    },
    {
     "name": "stderr",
     "output_type": "stream",
     "text": [
      "Evaluare meta-llama/Llama-4-Scout-17B-16E-Instruct:  72%|███████▏  | 175/242 [07:00<02:27,  2.21s/ex]"
     ]
    },
    {
     "name": "stdout",
     "output_type": "stream",
     "text": [
      "Warning: Exercițiul 175 nu are imagine asociată.\n"
     ]
    },
    {
     "name": "stderr",
     "output_type": "stream",
     "text": [
      "Evaluare meta-llama/Llama-4-Scout-17B-16E-Instruct:  73%|███████▎  | 176/242 [07:02<02:27,  2.24s/ex]"
     ]
    },
    {
     "name": "stdout",
     "output_type": "stream",
     "text": [
      "Warning: Exercițiul 176 nu are imagine asociată.\n"
     ]
    },
    {
     "name": "stderr",
     "output_type": "stream",
     "text": [
      "Evaluare meta-llama/Llama-4-Scout-17B-16E-Instruct:  74%|███████▎  | 178/242 [07:08<02:45,  2.59s/ex]"
     ]
    },
    {
     "name": "stdout",
     "output_type": "stream",
     "text": [
      "Warning: Exercițiul 178 nu are imagine asociată.\n"
     ]
    },
    {
     "name": "stderr",
     "output_type": "stream",
     "text": [
      "Evaluare meta-llama/Llama-4-Scout-17B-16E-Instruct:  74%|███████▍  | 179/242 [07:10<02:29,  2.38s/ex]"
     ]
    },
    {
     "name": "stdout",
     "output_type": "stream",
     "text": [
      "Warning: Exercițiul 179 nu are imagine asociată.\n"
     ]
    },
    {
     "name": "stderr",
     "output_type": "stream",
     "text": [
      "Evaluare meta-llama/Llama-4-Scout-17B-16E-Instruct:  74%|███████▍  | 180/242 [07:12<02:15,  2.18s/ex]"
     ]
    },
    {
     "name": "stdout",
     "output_type": "stream",
     "text": [
      "Warning: Exercițiul 180 nu are imagine asociată.\n",
      "\n",
      "📘 Prompt [180]: \n",
      "Nu este furnizată nicio imagine. Răspunde doar pe baza întrebării de mai jos.\n",
      "Întrebare: Vi se interzice circulația cu autoturismul pe drumurile publice când:\n",
      "A: Zgomotul în mers sau în staționare depășește limita legală admisă\n",
      "B: Oglinzile retrovizoare sunt de dimensiuni mai mari\n",
      "C: Dispozitivul de avertizare sonoră nu este corespunzător\n",
      "Poate exista mai mult de un răspuns corect.\n",
      "Mai întâi oferă doar litera/literele răspunsului corect sub forma:\n",
      "Răspuns: A\n",
      "Apoi oferă o explicație succintă pe un rând nou. \n",
      "Răspuns:\n",
      "✅ Gold: {'A'}\n",
      "🧠 Pred: {'A'}\n",
      "📝 Decoded: Răspuns: A\n",
      "\n",
      "Explicație: Circulația cu autoturismul pe drumurile publice este interzisă când zgomotul în mers sau în staționare depășește limita legală admisă, deoarece acest lucru poate constitui un pericol pentru ceilalți participanți la trafic și poate dăuna mediului înconjurător.\n",
      "------------------------------------------------------------\n"
     ]
    },
    {
     "name": "stderr",
     "output_type": "stream",
     "text": [
      "Evaluare meta-llama/Llama-4-Scout-17B-16E-Instruct:  75%|███████▍  | 181/242 [07:14<02:14,  2.21s/ex]"
     ]
    },
    {
     "name": "stdout",
     "output_type": "stream",
     "text": [
      "Warning: Exercițiul 181 nu are imagine asociată.\n"
     ]
    },
    {
     "name": "stderr",
     "output_type": "stream",
     "text": [
      "Evaluare meta-llama/Llama-4-Scout-17B-16E-Instruct:  76%|███████▌  | 183/242 [07:19<02:18,  2.35s/ex]"
     ]
    },
    {
     "name": "stdout",
     "output_type": "stream",
     "text": [
      "Warning: Exercițiul 183 nu are imagine asociată.\n"
     ]
    },
    {
     "name": "stderr",
     "output_type": "stream",
     "text": [
      "Evaluare meta-llama/Llama-4-Scout-17B-16E-Instruct:  77%|███████▋  | 186/242 [07:26<02:17,  2.46s/ex]"
     ]
    },
    {
     "name": "stdout",
     "output_type": "stream",
     "text": [
      "Warning: Exercițiul 186 nu are imagine asociată.\n"
     ]
    },
    {
     "name": "stderr",
     "output_type": "stream",
     "text": [
      "Evaluare meta-llama/Llama-4-Scout-17B-16E-Instruct:  77%|███████▋  | 187/242 [07:29<02:22,  2.60s/ex]"
     ]
    },
    {
     "name": "stdout",
     "output_type": "stream",
     "text": [
      "Warning: Exercițiul 187 nu are imagine asociată.\n"
     ]
    },
    {
     "name": "stderr",
     "output_type": "stream",
     "text": [
      "Evaluare meta-llama/Llama-4-Scout-17B-16E-Instruct:  78%|███████▊  | 188/242 [07:32<02:24,  2.67s/ex]"
     ]
    },
    {
     "name": "stdout",
     "output_type": "stream",
     "text": [
      "Warning: Exercițiul 188 nu are imagine asociată.\n"
     ]
    },
    {
     "name": "stderr",
     "output_type": "stream",
     "text": [
      "Evaluare meta-llama/Llama-4-Scout-17B-16E-Instruct:  78%|███████▊  | 189/242 [07:34<02:10,  2.46s/ex]"
     ]
    },
    {
     "name": "stdout",
     "output_type": "stream",
     "text": [
      "Warning: Exercițiul 189 nu are imagine asociată.\n"
     ]
    },
    {
     "name": "stderr",
     "output_type": "stream",
     "text": [
      "Evaluare meta-llama/Llama-4-Scout-17B-16E-Instruct:  79%|███████▊  | 190/242 [07:36<02:06,  2.42s/ex]"
     ]
    },
    {
     "name": "stdout",
     "output_type": "stream",
     "text": [
      "Warning: Exercițiul 190 nu are imagine asociată.\n",
      "\n",
      "📘 Prompt [190]: \n",
      "Nu este furnizată nicio imagine. Răspunde doar pe baza întrebării de mai jos.\n",
      "Întrebare: Când sunteți obligat să opriți vehiculul?\n",
      "A: La semnalele îndrumătorilor de circulație ai ministerului apărării\n",
      "B: La semnalele conducătorilor de vehicule care virează la dreapta\n",
      "C: La semnalele conducătorilor vehiculelor care circulă din sens invers\n",
      "Poate exista mai mult de un răspuns corect.\n",
      "Mai întâi oferă doar litera/literele răspunsului corect sub forma:\n",
      "Răspuns: A\n",
      "Apoi oferă o explicație succintă pe un rând nou. \n",
      "Răspuns:\n",
      "✅ Gold: {'A'}\n",
      "🧠 Pred: {'A'}\n",
      "📝 Decoded: Răspuns: A\n",
      "\n",
      "Oprirea vehiculului este obligatorie la semnalele îndrumătorilor de circulație, inclusiv cei ai ministerului apărării, care au prioritate față de ceilalți participanți la trafic.\n",
      "------------------------------------------------------------\n"
     ]
    },
    {
     "name": "stderr",
     "output_type": "stream",
     "text": [
      "Evaluare meta-llama/Llama-4-Scout-17B-16E-Instruct:  79%|███████▉  | 192/242 [07:41<01:55,  2.31s/ex]"
     ]
    },
    {
     "name": "stdout",
     "output_type": "stream",
     "text": [
      "Warning: Exercițiul 192 nu are imagine asociată.\n"
     ]
    },
    {
     "name": "stderr",
     "output_type": "stream",
     "text": [
      "Evaluare meta-llama/Llama-4-Scout-17B-16E-Instruct:  81%|████████  | 196/242 [07:49<01:39,  2.15s/ex]"
     ]
    },
    {
     "name": "stdout",
     "output_type": "stream",
     "text": [
      "Warning: Exercițiul 196 nu are imagine asociată.\n"
     ]
    },
    {
     "name": "stderr",
     "output_type": "stream",
     "text": [
      "Evaluare meta-llama/Llama-4-Scout-17B-16E-Instruct:  81%|████████▏ | 197/242 [07:51<01:33,  2.07s/ex]"
     ]
    },
    {
     "name": "stdout",
     "output_type": "stream",
     "text": [
      "Warning: Exercițiul 197 nu are imagine asociată.\n"
     ]
    },
    {
     "name": "stderr",
     "output_type": "stream",
     "text": [
      "Evaluare meta-llama/Llama-4-Scout-17B-16E-Instruct:  82%|████████▏ | 199/242 [07:55<01:30,  2.10s/ex]"
     ]
    },
    {
     "name": "stdout",
     "output_type": "stream",
     "text": [
      "Warning: Exercițiul 199 nu are imagine asociată.\n"
     ]
    },
    {
     "name": "stderr",
     "output_type": "stream",
     "text": [
      "Evaluare meta-llama/Llama-4-Scout-17B-16E-Instruct:  83%|████████▎ | 200/242 [07:58<01:31,  2.18s/ex]"
     ]
    },
    {
     "name": "stdout",
     "output_type": "stream",
     "text": [
      "\n",
      "📘 Prompt [200]: https://huggingface.co/datasets/RKThirteen/ImaginiExamenAuto/resolve/main/Cat_B_poz_1147.jpg\n",
      "Imaginea conține o situație rutieră. Răspunde pe baza acesteia și a întrebării de mai jos.\n",
      "Întrebare: Trebuie să acordați prioritate autoturismului negru dacă acesta virează la stânga?\n",
      "A: În funcţie de viteza celor două vehicule\n",
      "B: Da\n",
      "C: Nu\n",
      "Poate exista mai mult de un răspuns corect.\n",
      "Mai întâi oferă doar litera/literele răspunsului corect sub forma:\n",
      "Răspuns: A\n",
      "Apoi oferă o explicație succintă pe un rând nou. \n",
      "Răspuns:\n",
      "✅ Gold: {'C'}\n",
      "🧠 Pred: {'C', 'B'}\n",
      "📝 Decoded: Răspuns: B, C\n",
      "\n",
      "Explicație: În situația prezentată, autoturismul negru care virează la stânga trebuie să acorde prioritate vehiculelor care circulă pe sensul său direct, însă dacă în imagine se observă că autoturismul cu pricina se află deja în procesul de virare și celălalt vehicul se află la o distanță suficient de mare pentru a opri în siguranță pentru a-i permite să finalizeze virajul, sau dacă regulile de circulație și poziția vehiculelor în imagine implică în mod clar acordarea priorității de\n",
      "------------------------------------------------------------\n"
     ]
    },
    {
     "name": "stderr",
     "output_type": "stream",
     "text": [
      "Evaluare meta-llama/Llama-4-Scout-17B-16E-Instruct:  83%|████████▎ | 201/242 [08:01<01:38,  2.39s/ex]"
     ]
    },
    {
     "name": "stdout",
     "output_type": "stream",
     "text": [
      "Warning: Exercițiul 201 nu are imagine asociată.\n"
     ]
    },
    {
     "name": "stderr",
     "output_type": "stream",
     "text": [
      "Evaluare meta-llama/Llama-4-Scout-17B-16E-Instruct:  83%|████████▎ | 202/242 [08:03<01:33,  2.35s/ex]"
     ]
    },
    {
     "name": "stdout",
     "output_type": "stream",
     "text": [
      "Warning: Exercițiul 202 nu are imagine asociată.\n"
     ]
    },
    {
     "name": "stderr",
     "output_type": "stream",
     "text": [
      "Evaluare meta-llama/Llama-4-Scout-17B-16E-Instruct:  84%|████████▍ | 204/242 [08:08<01:30,  2.38s/ex]"
     ]
    },
    {
     "name": "stdout",
     "output_type": "stream",
     "text": [
      "Warning: Exercițiul 204 nu are imagine asociată.\n"
     ]
    },
    {
     "name": "stderr",
     "output_type": "stream",
     "text": [
      "Evaluare meta-llama/Llama-4-Scout-17B-16E-Instruct:  85%|████████▌ | 206/242 [08:13<01:31,  2.55s/ex]"
     ]
    },
    {
     "name": "stdout",
     "output_type": "stream",
     "text": [
      "Warning: Exercițiul 206 nu are imagine asociată.\n"
     ]
    },
    {
     "name": "stderr",
     "output_type": "stream",
     "text": [
      "Evaluare meta-llama/Llama-4-Scout-17B-16E-Instruct:  86%|████████▌ | 207/242 [08:16<01:28,  2.54s/ex]"
     ]
    },
    {
     "name": "stdout",
     "output_type": "stream",
     "text": [
      "Warning: Exercițiul 207 nu are imagine asociată.\n"
     ]
    },
    {
     "name": "stderr",
     "output_type": "stream",
     "text": [
      "Evaluare meta-llama/Llama-4-Scout-17B-16E-Instruct:  86%|████████▌ | 208/242 [08:18<01:25,  2.50s/ex]"
     ]
    },
    {
     "name": "stdout",
     "output_type": "stream",
     "text": [
      "Warning: Exercițiul 208 nu are imagine asociată.\n"
     ]
    },
    {
     "name": "stderr",
     "output_type": "stream",
     "text": [
      "Evaluare meta-llama/Llama-4-Scout-17B-16E-Instruct:  87%|████████▋ | 210/242 [08:22<01:11,  2.25s/ex]"
     ]
    },
    {
     "name": "stdout",
     "output_type": "stream",
     "text": [
      "\n",
      "📘 Prompt [210]: https://huggingface.co/datasets/RKThirteen/ImaginiExamenAuto/resolve/main/1.jpg\n",
      "Imaginea conține o situație rutieră. Răspunde pe baza acesteia și a întrebării de mai jos.\n",
      "Întrebare: Dacă ați selectat banda de circulație conform imaginii prezentate, vă este permis:\n",
      "A: Să circulați înainte sau la dreapta\n",
      "B: Să virați numai la dreapta\n",
      "C: Să circulați numai înainte\n",
      "Poate exista mai mult de un răspuns corect.\n",
      "Mai întâi oferă doar litera/literele răspunsului corect sub forma:\n",
      "Răspuns: A\n",
      "Apoi oferă o explicație succintă pe un rând nou. \n",
      "Răspuns:\n",
      "✅ Gold: {'A'}\n",
      "🧠 Pred: {'A'}\n",
      "📝 Decoded: Răspuns: A\n",
      "\n",
      "Explicație: În imaginea prezentată, se observă că banda de circulație selectată este cea din dreapta, care permite conducătorului auto să continue deplasarea în direcția înainte sau să vireze la dreapta, deci ambele variante A sunt posibile, neexistând niciun indicator care să interzică virajul la dreapta sau deplasarea înainte.\n",
      "------------------------------------------------------------\n"
     ]
    },
    {
     "name": "stderr",
     "output_type": "stream",
     "text": [
      "Evaluare meta-llama/Llama-4-Scout-17B-16E-Instruct:  87%|████████▋ | 211/242 [08:25<01:14,  2.41s/ex]"
     ]
    },
    {
     "name": "stdout",
     "output_type": "stream",
     "text": [
      "Warning: Exercițiul 211 nu are imagine asociată.\n"
     ]
    },
    {
     "name": "stderr",
     "output_type": "stream",
     "text": [
      "Evaluare meta-llama/Llama-4-Scout-17B-16E-Instruct:  88%|████████▊ | 212/242 [08:27<01:08,  2.30s/ex]"
     ]
    },
    {
     "name": "stdout",
     "output_type": "stream",
     "text": [
      "Warning: Exercițiul 212 nu are imagine asociată.\n"
     ]
    },
    {
     "name": "stderr",
     "output_type": "stream",
     "text": [
      "Evaluare meta-llama/Llama-4-Scout-17B-16E-Instruct:  88%|████████▊ | 213/242 [08:29<01:05,  2.26s/ex]"
     ]
    },
    {
     "name": "stdout",
     "output_type": "stream",
     "text": [
      "Warning: Exercițiul 213 nu are imagine asociată.\n"
     ]
    },
    {
     "name": "stderr",
     "output_type": "stream",
     "text": [
      "Evaluare meta-llama/Llama-4-Scout-17B-16E-Instruct:  88%|████████▊ | 214/242 [08:31<00:57,  2.07s/ex]"
     ]
    },
    {
     "name": "stdout",
     "output_type": "stream",
     "text": [
      "Warning: Exercițiul 214 nu are imagine asociată.\n"
     ]
    },
    {
     "name": "stderr",
     "output_type": "stream",
     "text": [
      "Evaluare meta-llama/Llama-4-Scout-17B-16E-Instruct:  90%|████████▉ | 217/242 [08:38<00:55,  2.20s/ex]"
     ]
    },
    {
     "name": "stdout",
     "output_type": "stream",
     "text": [
      "Warning: Exercițiul 217 nu are imagine asociată.\n"
     ]
    },
    {
     "name": "stderr",
     "output_type": "stream",
     "text": [
      "Evaluare meta-llama/Llama-4-Scout-17B-16E-Instruct:  90%|█████████ | 219/242 [08:42<00:50,  2.18s/ex]"
     ]
    },
    {
     "name": "stdout",
     "output_type": "stream",
     "text": [
      "Warning: Exercițiul 219 nu are imagine asociată.\n"
     ]
    },
    {
     "name": "stderr",
     "output_type": "stream",
     "text": [
      "Evaluare meta-llama/Llama-4-Scout-17B-16E-Instruct:  91%|█████████ | 220/242 [08:45<00:52,  2.38s/ex]"
     ]
    },
    {
     "name": "stdout",
     "output_type": "stream",
     "text": [
      "Warning: Exercițiul 220 nu are imagine asociată.\n",
      "\n",
      "📘 Prompt [220]: \n",
      "Nu este furnizată nicio imagine. Răspunde doar pe baza întrebării de mai jos.\n",
      "Întrebare: Se interzice staționarea voluntară:\n",
      "A: Pe drumurile cu mai puțin de două benzi pe sensul de mers\n",
      "B: În zona de acționare a indicatorului „circulație în ambele sensuri\"\n",
      "C: În dreptul căilor de acces care deservesc proprietăți alăturate drumurilor publice\n",
      "Poate exista mai mult de un răspuns corect.\n",
      "Mai întâi oferă doar litera/literele răspunsului corect sub forma:\n",
      "Răspuns: A\n",
      "Apoi oferă o explicație succintă pe un rând nou. \n",
      "Răspuns:\n",
      "✅ Gold: {'C'}\n",
      "🧠 Pred: {'C'}\n",
      "📝 Decoded: Răspuns: C\n",
      "\n",
      "Staționarea voluntară este interzisă, printre altele, în dreptul căilor de acces care deservesc proprietăți alăturate drumurilor publice, conform regulilor de circulație rutieră.\n",
      "------------------------------------------------------------\n"
     ]
    },
    {
     "name": "stderr",
     "output_type": "stream",
     "text": [
      "Evaluare meta-llama/Llama-4-Scout-17B-16E-Instruct:  92%|█████████▏| 222/242 [08:49<00:45,  2.27s/ex]"
     ]
    },
    {
     "name": "stdout",
     "output_type": "stream",
     "text": [
      "Warning: Exercițiul 222 nu are imagine asociată.\n"
     ]
    },
    {
     "name": "stderr",
     "output_type": "stream",
     "text": [
      "Evaluare meta-llama/Llama-4-Scout-17B-16E-Instruct:  93%|█████████▎| 224/242 [08:53<00:39,  2.17s/ex]"
     ]
    },
    {
     "name": "stdout",
     "output_type": "stream",
     "text": [
      "Warning: Exercițiul 224 nu are imagine asociată.\n"
     ]
    },
    {
     "name": "stderr",
     "output_type": "stream",
     "text": [
      "Evaluare meta-llama/Llama-4-Scout-17B-16E-Instruct:  93%|█████████▎| 226/242 [08:58<00:35,  2.19s/ex]"
     ]
    },
    {
     "name": "stdout",
     "output_type": "stream",
     "text": [
      "Warning: Exercițiul 226 nu are imagine asociată.\n"
     ]
    },
    {
     "name": "stderr",
     "output_type": "stream",
     "text": [
      "Evaluare meta-llama/Llama-4-Scout-17B-16E-Instruct:  95%|█████████▌| 230/242 [09:06<00:25,  2.10s/ex]"
     ]
    },
    {
     "name": "stdout",
     "output_type": "stream",
     "text": [
      "Warning: Exercițiul 230 nu are imagine asociată.\n",
      "\n",
      "📘 Prompt [230]: \n",
      "Nu este furnizată nicio imagine. Răspunde doar pe baza întrebării de mai jos.\n",
      "Întrebare: Accidentatul cu hemoragie externă trebuie așezat:\n",
      "A: În așa fel încât rana care sângerează să fie mai jos decât planul corpului\n",
      "B: Nu are importanță dacă rana este situată mai sus sau mai jos decât planul corpului\n",
      "C: În așa fel încât rana sângerândă să fie mai sus decât nivelul corpului\n",
      "Poate exista mai mult de un răspuns corect.\n",
      "Mai întâi oferă doar litera/literele răspunsului corect sub forma:\n",
      "Răspuns: A\n",
      "Apoi oferă o explicație succintă pe un rând nou. \n",
      "Răspuns:\n",
      "✅ Gold: {'C'}\n",
      "🧠 Pred: {'C'}\n",
      "📝 Decoded: Răspuns: C\n",
      "\n",
      "Explicație: Pentru a reduce sângerarea, este recomandat ca zona afectată să fie ridicată deasupra nivelului inimii pentru a diminua fluxul de sânge către acea zonă.\n",
      "------------------------------------------------------------\n"
     ]
    },
    {
     "name": "stderr",
     "output_type": "stream",
     "text": [
      "Evaluare meta-llama/Llama-4-Scout-17B-16E-Instruct:  96%|█████████▌| 232/242 [09:11<00:23,  2.38s/ex]"
     ]
    },
    {
     "name": "stdout",
     "output_type": "stream",
     "text": [
      "Warning: Exercițiul 232 nu are imagine asociată.\n"
     ]
    },
    {
     "name": "stderr",
     "output_type": "stream",
     "text": [
      "Evaluare meta-llama/Llama-4-Scout-17B-16E-Instruct:  97%|█████████▋| 234/242 [09:16<00:18,  2.36s/ex]"
     ]
    },
    {
     "name": "stdout",
     "output_type": "stream",
     "text": [
      "Warning: Exercițiul 234 nu are imagine asociată.\n"
     ]
    },
    {
     "name": "stderr",
     "output_type": "stream",
     "text": [
      "Evaluare meta-llama/Llama-4-Scout-17B-16E-Instruct:  97%|█████████▋| 235/242 [09:19<00:18,  2.68s/ex]"
     ]
    },
    {
     "name": "stdout",
     "output_type": "stream",
     "text": [
      "Warning: Exercițiul 235 nu are imagine asociată.\n"
     ]
    },
    {
     "name": "stderr",
     "output_type": "stream",
     "text": [
      "Evaluare meta-llama/Llama-4-Scout-17B-16E-Instruct:  98%|█████████▊| 237/242 [09:24<00:12,  2.47s/ex]"
     ]
    },
    {
     "name": "stdout",
     "output_type": "stream",
     "text": [
      "Warning: Exercițiul 237 nu are imagine asociată.\n"
     ]
    },
    {
     "name": "stderr",
     "output_type": "stream",
     "text": [
      "Evaluare meta-llama/Llama-4-Scout-17B-16E-Instruct:  99%|█████████▉| 240/242 [09:32<00:05,  2.62s/ex]"
     ]
    },
    {
     "name": "stdout",
     "output_type": "stream",
     "text": [
      "Warning: Exercițiul 240 nu are imagine asociată.\n",
      "\n",
      "📘 Prompt [240]: \n",
      "Nu este furnizată nicio imagine. Răspunde doar pe baza întrebării de mai jos.\n",
      "Întrebare: Pe drumurile publice prevăzute cu minimum 3 benzi pe sens, atunci când conducătorii a două vehicule circulă în aceeași direcție, dar pe benzi diferite, și intenționează să se înscrie pe banda liberă dintre ei, această bandă va fi ocupată de:\n",
      "A: Vehiculul care circulă pe banda din stânga, față de cel care circulă pe banda din dreapta\n",
      "B: Vehiculul care circulă pe banda din dreapta, față de cel care circulă pe banda din stânga\n",
      "C: Vehiculul care circulă cu viteza maximă admisă pe sectorul de drum respectiv\n",
      "Poate exista mai mult de un răspuns corect.\n",
      "Mai întâi oferă doar litera/literele răspunsului corect sub forma:\n",
      "Răspuns: A\n",
      "Apoi oferă o explicație succintă pe un rând nou. \n",
      "Răspuns:\n",
      "✅ Gold: {'A'}\n",
      "🧠 Pred: {'A'}\n",
      "📝 Decoded: Răspuns: A\n",
      "\n",
      "Explicație: În conformitate cu regulile de circulație rutieră, atunci când doi conducători de vehicule circulă în aceeași direcție pe drumuri cu cel puțin trei benzi pe sens și doresc să se înscrie pe banda liberă dintre ei, prioritatea o are vehiculul care circulă pe banda din stânga, deoarece schimbarea benzii se face în general din banda din stânga către banda din dreapta, astfel facilitând o fluidizare a traficului și reducerea riscului de accidente.\n",
      "------------------------------------------------------------\n"
     ]
    },
    {
     "name": "stderr",
     "output_type": "stream",
     "text": [
      "Evaluare meta-llama/Llama-4-Scout-17B-16E-Instruct: 100%|█████████▉| 241/242 [09:34<00:02,  2.60s/ex]"
     ]
    },
    {
     "name": "stdout",
     "output_type": "stream",
     "text": [
      "Warning: Exercițiul 241 nu are imagine asociată.\n",
      "\n",
      "📘 Prompt [241]: \n",
      "Nu este furnizată nicio imagine. Răspunde doar pe baza întrebării de mai jos.\n",
      "Întrebare: Oprirea este interzisă:\n",
      "A: La mai puțin de 25 m de colțul unei intersecții\n",
      "B: În zona de acțiune a indicatorului „staționarea interzisă“\n",
      "C: În curbe și pe sectoarele de drum cu vizibilitate redusă sub 50 m\n",
      "Poate exista mai mult de un răspuns corect.\n",
      "Mai întâi oferă doar litera/literele răspunsului corect sub forma:\n",
      "Răspuns: A\n",
      "Apoi oferă o explicație succintă pe un rând nou. \n",
      "Răspuns:\n",
      "✅ Gold: {'C', 'A'}\n",
      "🧠 Pred: {'C', 'B'}\n",
      "📝 Decoded: Răspuns: B, C\n",
      "\n",
      "Oprirea este interzisă în zonele indicate de indicatorul \"staționarea interzisă\" și în curbe sau pe sectoarele de drum cu vizibilitate redusă sub 50 m, pentru a asigura siguranța traficului.\n",
      "------------------------------------------------------------\n"
     ]
    },
    {
     "name": "stderr",
     "output_type": "stream",
     "text": [
      "Evaluare meta-llama/Llama-4-Scout-17B-16E-Instruct: 100%|██████████| 242/242 [09:37<00:00,  2.38s/ex]"
     ]
    },
    {
     "name": "stdout",
     "output_type": "stream",
     "text": [
      "\n",
      "📝 Evaluare finalizată. CSV salvat la: multimodal_rezultate_llama4_scout.csv\n",
      "📊 Acuratețe totală (exact match): 55.79%\n"
     ]
    },
    {
     "name": "stderr",
     "output_type": "stream",
     "text": [
      "\n"
     ]
    }
   ],
   "source": [
    "golds, preds, accuracy = evaluate_model_together(\n",
    "        model=MODEL_NAME,\n",
    "        dataset=test_ds,\n",
    "        max_tokens=128,\n",
    "        log_progress=10,\n",
    "        verbose=True,\n",
    "        output_csv_path=\"multimodal_rezultate_llama4_scout.csv\",\n",
    "    )"
   ]
  }
 ],
 "metadata": {
  "kernelspec": {
   "display_name": "base",
   "language": "python",
   "name": "python3"
  },
  "language_info": {
   "codemirror_mode": {
    "name": "ipython",
    "version": 3
   },
   "file_extension": ".py",
   "mimetype": "text/x-python",
   "name": "python",
   "nbconvert_exporter": "python",
   "pygments_lexer": "ipython3",
   "version": "3.11.7"
  }
 },
 "nbformat": 4,
 "nbformat_minor": 5
}
